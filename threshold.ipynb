{
 "cells": [
  {
   "cell_type": "code",
   "execution_count": 1,
   "source": [
    "import numpy as np\n",
    "def Find_Optimal_Cutoff(TPR, FPR, threshold):\n",
    "    y = TPR - FPR\n",
    "    Youden_index = np.argmax(y)  # Only the first occurrence is returned.\n",
    "    optimal_threshold = threshold[Youden_index]\n",
    "    point = [FPR[Youden_index], TPR[Youden_index]]\n",
    "    return optimal_threshold, point"
   ],
   "outputs": [],
   "metadata": {}
  },
  {
   "cell_type": "code",
   "execution_count": 2,
   "source": [
    "from sklearn import metrics\n",
    "def ROC(label, y_prob):\n",
    "    \"\"\"\n",
    "    Receiver_Operating_Characteristic, ROC\n",
    "    :param label: (n, )\n",
    "    :param y_prob: (n, )\n",
    "    :return: fpr, tpr, roc_auc, optimal_th, optimal_point\n",
    "    \"\"\"\n",
    "    fpr, tpr, thresholds = metrics.roc_curve(label, y_prob)\n",
    "    roc_auc = metrics.auc(fpr, tpr)\n",
    "    optimal_th, optimal_point = Find_Optimal_Cutoff(TPR=tpr, FPR=fpr, threshold=thresholds)\n",
    "    return fpr, tpr, roc_auc, optimal_th, optimal_point"
   ],
   "outputs": [],
   "metadata": {}
  }
 ],
 "metadata": {
  "orig_nbformat": 4,
  "language_info": {
   "name": "python",
   "version": "3.7.11",
   "mimetype": "text/x-python",
   "codemirror_mode": {
    "name": "ipython",
    "version": 3
   },
   "pygments_lexer": "ipython3",
   "nbconvert_exporter": "python",
   "file_extension": ".py"
  },
  "kernelspec": {
   "name": "python3",
   "display_name": "Python 3.7.11 64-bit ('eann': conda)"
  },
  "interpreter": {
   "hash": "465fa90a28663a9eacb4f6b007ef9489041ea648cb9c03179d70018ef7b6160c"
  }
 },
 "nbformat": 4,
 "nbformat_minor": 2
}
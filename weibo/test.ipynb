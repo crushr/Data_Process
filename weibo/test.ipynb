{
 "cells": [
  {
   "cell_type": "code",
   "execution_count": 73,
   "source": [
    "import numpy as np\n",
    "import pandas as pd\n",
    "import pickle\n",
    "\n",
    "id_label = pd.read_csv('train_id_label.csv')\n",
    "id_event = pickle.load(open('train_id.pickle', 'rb'))\n",
    "id_label['event'] = 0\n",
    "\n",
    "# 转为numpy\n",
    "id_label_event = np.array(id_label)\n",
    "id_label_event"
   ],
   "outputs": [
    {
     "output_type": "execute_result",
     "data": {
      "text/plain": [
       "array([['real', 3511947309647762, 0],\n",
       "       ['real', 3576100079039606, 0],\n",
       "       ['real', 3584521306131914, 0],\n",
       "       ...,\n",
       "       ['fake', 3896419460945412, 0],\n",
       "       ['fake', 3896157270699471, 0],\n",
       "       ['fake', 3892828281041275, 0]], dtype=object)"
      ]
     },
     "metadata": {},
     "execution_count": 73
    }
   ],
   "metadata": {}
  },
  {
   "cell_type": "code",
   "execution_count": 77,
   "source": [
    "# 匹配event\n",
    "for idx, row in enumerate(id_label_event):\n",
    "    id_label_event[idx,2] = id_event[str(row[1])]\n",
    "\n",
    "id_label_event"
   ],
   "outputs": [
    {
     "output_type": "execute_result",
     "data": {
      "text/plain": [
       "array([['real', 3511947309647762, 29],\n",
       "       ['real', 3576100079039606, 28],\n",
       "       ['real', 3584521306131914, 3],\n",
       "       ...,\n",
       "       ['fake', 3896419460945412, 26],\n",
       "       ['fake', 3896157270699471, 6],\n",
       "       ['fake', 3892828281041275, 6]], dtype=object)"
      ]
     },
     "metadata": {},
     "execution_count": 77
    }
   ],
   "metadata": {}
  },
  {
   "cell_type": "code",
   "execution_count": 79,
   "source": [
    "# numpy转csv\n",
    "pd_data = pd.DataFrame(id_label_event, columns=['label','id','event'])\n",
    "pd_data.to_csv('1.csv')"
   ],
   "outputs": [],
   "metadata": {}
  }
 ],
 "metadata": {
  "orig_nbformat": 4,
  "language_info": {
   "name": "python",
   "version": "3.7.11",
   "mimetype": "text/x-python",
   "codemirror_mode": {
    "name": "ipython",
    "version": 3
   },
   "pygments_lexer": "ipython3",
   "nbconvert_exporter": "python",
   "file_extension": ".py"
  },
  "kernelspec": {
   "name": "python3",
   "display_name": "Python 3.7.11 64-bit ('Py37': conda)"
  },
  "interpreter": {
   "hash": "1972d63697a35934e82b40db590af800614c1a0914196766b30910d3176a6838"
  }
 },
 "nbformat": 4,
 "nbformat_minor": 2
}
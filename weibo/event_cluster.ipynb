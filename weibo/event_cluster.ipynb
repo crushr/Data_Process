{
 "cells": [
  {
   "cell_type": "markdown",
   "source": [
    "## 取出label和id数据分别转为csv"
   ],
   "metadata": {}
  },
  {
   "cell_type": "code",
   "execution_count": 73,
   "source": [
    "import pickle    \n",
    "import pandas as pd\n",
    "data = pickle.load(open('train.pickle', 'rb'))\n",
    "\n",
    "for i in range(len(data['text'])):\n",
    "    data['id'][i] = data['id'][i][:]\n",
    "    data['label'][i] = \"real\" if data['label'][i] == 1 else \"fake\"\n",
    "\n",
    "lie1 = pd.DataFrame(columns = ['label'] , data=data['label'])\n",
    "lie2 = pd.DataFrame(columns = ['id'] , data=data['id'])\n",
    "df = pd.concat([lie1, lie2], axis=1)\n",
    "df.to_csv(\"train_id_label.csv\", encoding='utf-8', index=False)"
   ],
   "outputs": [],
   "metadata": {}
  },
  {
   "cell_type": "code",
   "execution_count": 74,
   "source": [
    "import pickle    \n",
    "import pandas as pd\n",
    "data = pickle.load(open('test.pickle', 'rb'))\n",
    "\n",
    "for i in range(len(data['text'])):\n",
    "    data['id'][i] = data['id'][i][:]\n",
    "    data['label'][i] = \"real\" if data['label'][i] == 1 else \"fake\"\n",
    "\n",
    "lie1 = pd.DataFrame(columns = ['label'] , data=data['label'])\n",
    "lie2 = pd.DataFrame(columns = ['id'] , data=data['id'])\n",
    "df = pd.concat([lie1, lie2], axis=1)\n",
    "df.to_csv(\"test_id_label.csv\", encoding='utf-8', index=False)"
   ],
   "outputs": [],
   "metadata": {}
  },
  {
   "cell_type": "code",
   "execution_count": 75,
   "source": [
    "import pickle    \n",
    "import pandas as pd\n",
    "data = pickle.load(open('validate.pickle', 'rb'))\n",
    "\n",
    "for i in range(len(data['text'])):\n",
    "    data['id'][i] = data['id'][i][:]\n",
    "    data['label'][i] = \"real\" if data['label'][i] == 1 else \"fake\"\n",
    "\n",
    "lie1 = pd.DataFrame(columns = ['label'] , data=data['label'])\n",
    "lie2 = pd.DataFrame(columns = ['id'] , data=data['id'])\n",
    "df = pd.concat([lie1, lie2], axis=1)\n",
    "df.to_csv(\"validate_id_label.csv\", encoding='utf-8', index=False)"
   ],
   "outputs": [],
   "metadata": {}
  },
  {
   "cell_type": "markdown",
   "source": [
    "## 读取"
   ],
   "metadata": {}
  },
  {
   "cell_type": "code",
   "execution_count": 87,
   "source": [
    "import pandas as pd\n",
    "\n",
    "id_label = pd.read_csv('train_id_label.csv')\n",
    "id_event = pickle.load(open('train_id.pickle', 'rb'))\n",
    "id_label['event']=0"
   ],
   "outputs": [],
   "metadata": {}
  },
  {
   "cell_type": "markdown",
   "source": [
    "## 字典匹配id 插入事件列"
   ],
   "metadata": {}
  },
  {
   "cell_type": "code",
   "execution_count": 88,
   "source": [
    "import numpy as np\n",
    "\n",
    "# 转为numpy\n",
    "id_label_event = np.array(id_label)\n",
    "\n",
    "# 匹配event\n",
    "for idx, row in enumerate(id_label_event):\n",
    "    id_label_event[idx,2] = id_event[str(row[1])]\n",
    "\n",
    "# 输出csv\n",
    "pd_data = pd.DataFrame(id_label_event, columns=['label','id','event'])\n",
    "pd_data.to_csv('train_i_l_e.csv')"
   ],
   "outputs": [],
   "metadata": {}
  },
  {
   "cell_type": "code",
   "execution_count": 89,
   "source": [
    "pd_data['label'].value_counts()"
   ],
   "outputs": [
    {
     "output_type": "execute_result",
     "data": {
      "text/plain": [
       "real    2898\n",
       "fake    2517\n",
       "Name: label, dtype: int64"
      ]
     },
     "metadata": {},
     "execution_count": 89
    }
   ],
   "metadata": {}
  },
  {
   "cell_type": "code",
   "execution_count": 90,
   "source": [
    "pd_data['event'].value_counts()"
   ],
   "outputs": [
    {
     "output_type": "execute_result",
     "data": {
      "text/plain": [
       "6     1273\n",
       "28     975\n",
       "29     930\n",
       "2      925\n",
       "0      381\n",
       "11     328\n",
       "26     320\n",
       "23     139\n",
       "3       83\n",
       "21      61\n",
       "Name: event, dtype: int64"
      ]
     },
     "metadata": {},
     "execution_count": 90
    }
   ],
   "metadata": {}
  },
  {
   "cell_type": "code",
   "execution_count": 116,
   "source": [
    "import seaborn as sns\n",
    "import matplotlib.pyplot as plt\n",
    "\n",
    "sns.set_theme(style=\"ticks\", color_codes=True)\n",
    "\n",
    "plt.figure(figsize=(20, 8))\n",
    "sns.set(font_scale=2)\n",
    "ax = sns.countplot(x=\"event\", hue=\"label\", data=pd_data)\n",
    "ax.set_yscale(\"log\")\n",
    "\n",
    "# 调整图例位置（靠左距离，靠下距离）\n",
    "ax.legend(loc='center right', bbox_to_anchor=(0.13,0.90), ncol=1)\n",
    "\n",
    "plt.show()"
   ],
   "outputs": [
    {
     "output_type": "display_data",
     "data": {
      "image/png": "[encoded data removed]",
      "text/plain": [
       "<Figure size 1440x576 with 1 Axes>"
      ]
     },
     "metadata": {}
    }
   ],
   "metadata": {}
  },
  {
   "cell_type": "code",
   "execution_count": 42,
   "source": [
    "import pickle    \n",
    "import pandas as pd\n",
    "data = pickle.load(open('train.pickle', 'rb'))\n",
    "\n",
    "for i in range(len(data['text'])):\n",
    "    data['text'][i] = data['text'][i][:-1]\n",
    "    data['id'][i] = data['id'][i][:]\n",
    "    data['label'][i] = \"real\" if data['label'][i] == 1 else \"fake\"\n",
    "\n",
    "\n",
    "lie1 = pd.DataFrame(columns = ['id'] , data=data['id'])\n",
    "lie2 = pd.DataFrame(columns = ['text'] , data=data['text'])\n",
    "lie3 = pd.DataFrame(columns = ['label'] , data=data['label'])\n",
    "df = pd.concat([lie1, lie2, lie3], axis=1)\n",
    "df.to_csv(\"train_id_text_label.csv\", encoding='utf-8', index=False)"
   ],
   "outputs": [],
   "metadata": {}
  },
  {
   "cell_type": "code",
   "execution_count": 43,
   "source": [
    "import pandas as pd\n",
    "\n",
    "id_label = pd.read_csv('train_id_text_label.csv')\n",
    "id_event = pickle.load(open('train_id.pickle', 'rb'))\n",
    "id_label['event']=0\n",
    "\n",
    "import numpy as np\n",
    "# 转为numpy\n",
    "id_label_event = np.array(id_label)\n",
    "\n",
    "# 匹配event\n",
    "for idx, row in enumerate(id_label_event):\n",
    "    id_label_event[idx,3] = id_event[str(row[0])]\n",
    "\n",
    "# 输出csv\n",
    "pd_data = pd.DataFrame(id_label_event, columns=['id','text','label','event'])\n",
    "pd_data.to_csv('train_i_t_l_e.csv',index=0)"
   ],
   "outputs": [],
   "metadata": {}
  },
  {
   "cell_type": "markdown",
   "source": [
    "## 单独输出事件的推文"
   ],
   "metadata": {}
  },
  {
   "cell_type": "code",
   "execution_count": 88,
   "source": [
    "df = pd.read_csv('train_i_t_l_e.csv')\n",
    "df = df[df['event'] == 29]\n",
    "df['text'].to_csv('事件29.csv',index=0)"
   ],
   "outputs": [],
   "metadata": {}
  },
  {
   "cell_type": "code",
   "execution_count": null,
   "source": [],
   "outputs": [],
   "metadata": {}
  }
 ],
 "metadata": {
  "orig_nbformat": 4,
  "language_info": {
   "name": "python",
   "version": "3.8.11",
   "mimetype": "text/x-python",
   "codemirror_mode": {
    "name": "ipython",
    "version": 3
   },
   "pygments_lexer": "ipython3",
   "nbconvert_exporter": "python",
   "file_extension": ".py"
  },
  "kernelspec": {
   "name": "python3",
   "display_name": "Python 3.8.11 64-bit ('Py38': conda)"
  },
  "interpreter": {
   "hash": "62792cbd3b5bf2807c49140b9dd77f3574e6f3863eef786f6f586b1ba9747cfd"
  }
 },
 "nbformat": 4,
 "nbformat_minor": 2
}
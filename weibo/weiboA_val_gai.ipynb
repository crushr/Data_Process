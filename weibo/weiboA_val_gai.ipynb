{
 "cells": [
  {
   "cell_type": "code",
   "execution_count": 1,
   "source": [
    "import pandas as pd \n",
    "file_ = pd.read_csv('/Users/zhongshannan/Downloads/weibo_validation.csv')\n",
    "file_['event_label'].value_counts()"
   ],
   "outputs": [
    {
     "output_type": "execute_result",
     "data": {
      "text/plain": [
       "7    255\n",
       "5    246\n",
       "1    166\n",
       "4    109\n",
       "8     67\n",
       "Name: event_label, dtype: int64"
      ]
     },
     "metadata": {},
     "execution_count": 1
    }
   ],
   "metadata": {}
  },
  {
   "cell_type": "code",
   "execution_count": 3,
   "source": [
    "import numpy as np\n",
    "file_arr = np.array(file_)"
   ],
   "outputs": [],
   "metadata": {}
  },
  {
   "cell_type": "code",
   "execution_count": 6,
   "source": [
    "for i in range(len(file_arr)):\n",
    "    if file_arr[i][3] == 7:\n",
    "        file_arr[i][3] = 0\n",
    "    elif file_arr[i][3] == 5:\n",
    "        file_arr[i][3] = 2\n",
    "    elif file_arr[i][3] == 8:\n",
    "        file_arr[i][3] = 3"
   ],
   "outputs": [],
   "metadata": {}
  },
  {
   "cell_type": "code",
   "execution_count": 7,
   "source": [
    "output = pd.DataFrame(columns=['text','image','label','event_label'], data=file_arr)\n",
    "output.to_csv('weibo_validation.csv', index=False)"
   ],
   "outputs": [],
   "metadata": {}
  },
  {
   "cell_type": "code",
   "execution_count": 11,
   "source": [
    "import pandas as pd \n",
    "file_ = pd.read_csv('/Users/zhongshannan/Downloads/twitter_validation.csv')"
   ],
   "outputs": [],
   "metadata": {}
  },
  {
   "cell_type": "code",
   "execution_count": 13,
   "source": [
    "import numpy as np\n",
    "file_arr = np.array(file_)\n",
    "for i in range(len(file_arr)):\n",
    "    if file_arr[i][2] == 'fake':\n",
    "        file_arr[i][2] = 'real'\n",
    "    else:\n",
    "        file_arr[i][2] = 'fake'"
   ],
   "outputs": [],
   "metadata": {}
  },
  {
   "cell_type": "code",
   "execution_count": 14,
   "source": [
    "output = pd.DataFrame(columns=['image','text','label','event_label'], data=file_arr)\n",
    "output.to_csv('twitter_validation1.csv', index=False)"
   ],
   "outputs": [],
   "metadata": {}
  },
  {
   "cell_type": "code",
   "execution_count": null,
   "source": [],
   "outputs": [],
   "metadata": {}
  }
 ],
 "metadata": {
  "orig_nbformat": 4,
  "language_info": {
   "name": "python",
   "version": "3.7.11",
   "mimetype": "text/x-python",
   "codemirror_mode": {
    "name": "ipython",
    "version": 3
   },
   "pygments_lexer": "ipython3",
   "nbconvert_exporter": "python",
   "file_extension": ".py"
  },
  "kernelspec": {
   "name": "python3",
   "display_name": "Python 3.7.11 64-bit ('eann': conda)"
  },
  "interpreter": {
   "hash": "465fa90a28663a9eacb4f6b007ef9489041ea648cb9c03179d70018ef7b6160c"
  }
 },
 "nbformat": 4,
 "nbformat_minor": 2
}
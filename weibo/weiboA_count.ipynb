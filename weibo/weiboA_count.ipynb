{
 "cells": [
  {
   "cell_type": "code",
   "execution_count": 71,
   "source": [
    "import pandas as pd\n",
    "import os\n",
    "\n",
    "# raw data\n",
    "root = '/Users/zhongshannan/Documents/fakenews_detection/dataset/weiboA/tweets/中间产物/'\n",
    "\n",
    "te_r = pd.read_csv(os.path.join(root,'test_real_post.csv'))\n",
    "te_f = pd.read_csv(os.path.join(root,'test_fake_post.csv'))\n",
    "tr_r = pd.read_csv(os.path.join(root,'train_real_post.csv'))\n",
    "tr_f = pd.read_csv(os.path.join(root,'train_fake_post.csv'))\n",
    "sum = len(te_r)+len(te_f)+len(tr_r)+len(tr_f)\n",
    "dict_la = {'train': {'real': len(tr_r), 'fake': len(tr_f)}, 'test': {'real': len(te_r), 'fake': len(te_f)}}\n",
    "dict_la,sum"
   ],
   "outputs": [
    {
     "output_type": "execute_result",
     "data": {
      "text/plain": [
       "({'train': {'real': 3783, 'fake': 3696}, 'test': {'real': 996, 'fake': 934}},\n",
       " 9409)"
      ]
     },
     "metadata": {},
     "execution_count": 71
    }
   ],
   "metadata": {}
  },
  {
   "cell_type": "code",
   "execution_count": 72,
   "source": [
    "import pandas as pd\n",
    "import os\n",
    "\n",
    "# clean version\n",
    "root = '/Users/zhongshannan/Documents/fakenews_detection/dataset/weiboA/'\n",
    "\n",
    "train = pd.read_csv(os.path.join(root,'train_id_label.csv'))\n",
    "validate = pd.read_csv(os.path.join(root,'validate_id_label.csv'))\n",
    "test = pd.read_csv(os.path.join(root,'test_id_label.csv'))\n",
    "sum = len(train)+len(validate)+len(test)\n",
    "\n",
    "arrsum = train['label'].value_counts().values + validate['label'].value_counts().values + test['label'].value_counts().values\n",
    "dict_label = {}.fromkeys([la for la in train['label']])\n",
    "i = 0\n",
    "for key in dict_label.keys():\n",
    "    dict_label[key] = arrsum[i]\n",
    "    i += 1\n",
    "dict_label, sum"
   ],
   "outputs": [
    {
     "output_type": "execute_result",
     "data": {
      "text/plain": [
       "({'real': 4108, 'fake': 3615}, 7723)"
      ]
     },
     "metadata": {},
     "execution_count": 72
    }
   ],
   "metadata": {}
  },
  {
   "cell_type": "code",
   "execution_count": 63,
   "source": [
    "train_num = train['label'].value_counts()+validate['label'].value_counts()\n",
    "test_num = test['label'].value_counts()"
   ],
   "outputs": [],
   "metadata": {}
  },
  {
   "cell_type": "code",
   "execution_count": 55,
   "source": [
    "# create a empty dict\n",
    "key = ['train','test']\n",
    "subkey = ['real', 'fake']\n",
    "dict_label = {}.fromkeys([k for k in key])\n",
    "for key in dict_label.keys():\n",
    "    dict_label[key] = {}.fromkeys([s for s in subkey])\n",
    "dict_label"
   ],
   "outputs": [
    {
     "output_type": "execute_result",
     "data": {
      "text/plain": [
       "{'train': {'real': None, 'fake': None}, 'test': {'real': None, 'fake': None}}"
      ]
     },
     "metadata": {},
     "execution_count": 55
    }
   ],
   "metadata": {}
  },
  {
   "cell_type": "code",
   "execution_count": 66,
   "source": [
    "# insert the data directly\n",
    "dict_label['train']['real'] = train_num[0]\n",
    "dict_label['train']['fake'] = train_num[1]\n",
    "dict_label['test']['real'] = test_num[0]\n",
    "dict_label['test']['fake'] = test_num[1]\n",
    "dict_label"
   ],
   "outputs": [
    {
     "output_type": "execute_result",
     "data": {
      "text/plain": [
       "{'train': {'real': 3352, 'fake': 2906}, 'test': {'real': 756, 'fake': 709}}"
      ]
     },
     "metadata": {},
     "execution_count": 66
    }
   ],
   "metadata": {}
  }
 ],
 "metadata": {
  "orig_nbformat": 4,
  "language_info": {
   "name": "python",
   "version": "3.8.11",
   "mimetype": "text/x-python",
   "codemirror_mode": {
    "name": "ipython",
    "version": 3
   },
   "pygments_lexer": "ipython3",
   "nbconvert_exporter": "python",
   "file_extension": ".py"
  },
  "kernelspec": {
   "name": "python3",
   "display_name": "Python 3.8.11 64-bit ('Py38': conda)"
  },
  "interpreter": {
   "hash": "62792cbd3b5bf2807c49140b9dd77f3574e6f3863eef786f6f586b1ba9747cfd"
  }
 },
 "nbformat": 4,
 "nbformat_minor": 2
}
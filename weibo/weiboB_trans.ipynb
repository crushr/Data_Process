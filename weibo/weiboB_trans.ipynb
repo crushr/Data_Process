{
 "cells": [
  {
   "cell_type": "code",
   "execution_count": 144,
   "source": [
    "import pandas as pd\n",
    "file_ = pd.read_csv('/Users/zhongshannan/Documents/fakenews_detection/dataset/weiboB/train.csv')\n",
    "file_.columns,len(file_)"
   ],
   "outputs": [
    {
     "output_type": "execute_result",
     "data": {
      "text/plain": [
       "(Index(['id', 'text', 'piclist', 'userGender', 'userFollowCount',\n",
       "        'userFansCount', 'userWeiboCount', 'userLocation', 'userDescription',\n",
       "        'category', 'label'],\n",
       "       dtype='object'),\n",
       " 38471)"
      ]
     },
     "metadata": {},
     "execution_count": 144
    }
   ],
   "metadata": {}
  },
  {
   "cell_type": "markdown",
   "source": [
    "dataframe 去除图像为空的行"
   ],
   "metadata": {}
  },
  {
   "cell_type": "code",
   "execution_count": 145,
   "source": [
    "file_['piclist'].isnull().value_counts()"
   ],
   "outputs": [
    {
     "output_type": "execute_result",
     "data": {
      "text/plain": [
       "False    21832\n",
       "True     16639\n",
       "Name: piclist, dtype: int64"
      ]
     },
     "metadata": {},
     "execution_count": 145
    }
   ],
   "metadata": {}
  },
  {
   "cell_type": "code",
   "execution_count": 146,
   "source": [
    "file_['piclist'] = file_['piclist'].fillna('999')"
   ],
   "outputs": [],
   "metadata": {}
  },
  {
   "cell_type": "code",
   "execution_count": 147,
   "source": [
    "null_list = file_[(file_.piclist=='999')].index.tolist()"
   ],
   "outputs": [],
   "metadata": {}
  },
  {
   "cell_type": "code",
   "execution_count": 148,
   "source": [
    "file_ = file_.drop(null_list)"
   ],
   "outputs": [],
   "metadata": {}
  },
  {
   "cell_type": "code",
   "execution_count": 149,
   "source": [
    "file_['piclist'].isnull().value_counts()"
   ],
   "outputs": [
    {
     "output_type": "execute_result",
     "data": {
      "text/plain": [
       "False    21832\n",
       "Name: piclist, dtype: int64"
      ]
     },
     "metadata": {},
     "execution_count": 149
    }
   ],
   "metadata": {}
  },
  {
   "cell_type": "code",
   "execution_count": 150,
   "source": [
    "file_.to_csv('train.csv', index=False)"
   ],
   "outputs": [],
   "metadata": {}
  },
  {
   "cell_type": "markdown",
   "source": [
    "分割一张图片"
   ],
   "metadata": {}
  },
  {
   "cell_type": "code",
   "execution_count": 182,
   "source": [
    "file_ = pd.read_csv('train.csv')"
   ],
   "outputs": [],
   "metadata": {}
  },
  {
   "cell_type": "code",
   "execution_count": 183,
   "source": [
    "file_['piclist'][11].split(\".jpg\")[0]"
   ],
   "outputs": [
    {
     "output_type": "execute_result",
     "data": {
      "text/plain": [
       "'847437169d65b4511d4a92065d0e516b'"
      ]
     },
     "metadata": {},
     "execution_count": 183
    }
   ],
   "metadata": {}
  },
  {
   "cell_type": "code",
   "execution_count": 184,
   "source": [
    "split_img = file_['piclist'].str.split('.jpg',expand=True)[0] + '.jpg'"
   ],
   "outputs": [],
   "metadata": {}
  },
  {
   "cell_type": "code",
   "execution_count": 185,
   "source": [
    "file_['image'] = split_img"
   ],
   "outputs": [],
   "metadata": {}
  },
  {
   "cell_type": "markdown",
   "source": [
    "去除无关行"
   ],
   "metadata": {}
  },
  {
   "cell_type": "code",
   "execution_count": 188,
   "source": [
    "file_.keys()"
   ],
   "outputs": [
    {
     "output_type": "execute_result",
     "data": {
      "text/plain": [
       "Index(['id', 'text', 'piclist', 'userGender', 'userFollowCount',\n",
       "       'userFansCount', 'userWeiboCount', 'userLocation', 'userDescription',\n",
       "       'category', 'label', 'image'],\n",
       "      dtype='object')"
      ]
     },
     "metadata": {},
     "execution_count": 188
    }
   ],
   "metadata": {}
  },
  {
   "cell_type": "code",
   "execution_count": 190,
   "source": [
    "file_.drop(['id'],axis=1,inplace=True)\n",
    "file_.drop(['piclist'],axis=1,inplace=True)\n",
    "file_.drop(['userGender'],axis=1,inplace=True)\n",
    "file_.drop(['userFollowCount'],axis=1,inplace=True)\n",
    "file_.drop(['userFansCount'],axis=1,inplace=True)\n",
    "file_.drop(['userWeiboCount'],axis=1,inplace=True)\n",
    "file_.drop(['userLocation'],axis=1,inplace=True)\n",
    "file_.drop(['userDescription'],axis=1,inplace=True)"
   ],
   "outputs": [],
   "metadata": {}
  },
  {
   "cell_type": "code",
   "execution_count": 193,
   "source": [
    "file_.to_csv('train.csv', index=False)"
   ],
   "outputs": [],
   "metadata": {}
  },
  {
   "cell_type": "markdown",
   "source": [
    "转换标签：域标签转换，label转换"
   ],
   "metadata": {}
  },
  {
   "cell_type": "code",
   "execution_count": 194,
   "source": [
    "file_ = pd.read_csv('train.csv')"
   ],
   "outputs": [],
   "metadata": {}
  },
  {
   "cell_type": "code",
   "execution_count": 195,
   "source": [
    "import numpy as np\n",
    "file_arr = np.array(file_)"
   ],
   "outputs": [],
   "metadata": {}
  },
  {
   "cell_type": "code",
   "execution_count": 199,
   "source": [
    "for i in range(len(file_arr)):\n",
    "    if file_arr[i][2] == 0:\n",
    "        file_arr[i][2] = 'real'\n",
    "    else:\n",
    "        file_arr[i][2] = 'fake'\n",
    "file_arr"
   ],
   "outputs": [
    {
     "output_type": "execute_result",
     "data": {
      "text/plain": [
       "array([['//分享网易新闻:《发生在昆明的火锅店老板“辱滇门”，云南人该愤怒还是羞愧》|发生在昆明...@网易新闻客户端#网易新闻#',\n",
       "        '社会生活', 'real', '63ad082a189566eed7c4bb3e4bc55012.jpg'],\n",
       "       ['西宁城管围殴民警扬言要把警察打死|西宁城管围...', '社会生活', 'real',\n",
       "        '4986dc2a5f09a87c7af5dfc57d7775cd.jpg'],\n",
       "       ['【川航航班因驾驶舱风挡破裂安全备降成都】今天上午6:26从重庆江北国际机场出发前往拉萨的四川航空3U8633次航班因机械故障于7:46备降成都双流国际机场。川航回应：旅客已有序下机休息。据CCFA成都空港缘分微博爆料称，3U8633次航班飞临成都上空时，副驾驶一侧驾驶舱玻璃破碎，随后飞机挂出7700紧急代码，并立即备降成都双流国际机场。“空中突然遇气流，飞机一直连续向下掉几次。”某乘客在朋友圈晒图分享。|川航航班因...',\n",
       "        '社会生活', 'real', 'dcfccfc69e90a0007afd6aafa1385e56.jpg'],\n",
       "       ...,\n",
       "       ['令人震惊！查地沟油的记者李翔,死了,身中10余刀,惨死。他为全国不能吃特供的十多亿人民的食品安全努力过。他付出了年轻的生命。为了我们的健康,他付出了年轻的生命。我们能为他做的就是：请动一下鼠标,转发,表达一下谢意。把这信息转发到你的亲戚朋友。',\n",
       "        '社会生活', 'fake', 'a9fea668ac5131d23ba1cb0cac6837e2.jpg'],\n",
       "       ['是我朋友的孩子帮帮忙谢谢！寻人启事13940292999。有线索酬金10万帮忙扩散，今天上午一个三岁多小女孩在锦绣花园小区附近被人拐走了，小女孩能说出她爸爸的手机号码从监控上看是被一个四十多岁男人抱走了现大人都急疯了有知情者请告之万分感谢看到信息的兄弟姐妹留意。2安阳·林州百货商场',\n",
       "        '社会生活', 'fake', 'd32965c1e487372176bffbe3239e6fb1.jpg'],\n",
       "       ['复旦大学的四个日本留学生在昨天下午酒后将一名大一在校女生和来看她她的表妹劫持到留学生宿舍，对二人进行了长达几个小时的奸淫。警方已经将其中三人拘留。校方现在要求在校学生对案件保持沉默！受害女生已经发疯，几次尝试自杀未遂！15岁的小表妹，还在急救室！',\n",
       "        '社会生活', 'fake', 'c0c62adf4eb34da07fabd078e12b1a2c.jpg']],\n",
       "      dtype=object)"
      ]
     },
     "metadata": {},
     "execution_count": 199
    }
   ],
   "metadata": {}
  },
  {
   "cell_type": "code",
   "execution_count": 200,
   "source": [
    "for i in range(len(file_arr)):\n",
    "    if file_arr[i][1] == '社会生活':\n",
    "        file_arr[i][1] = 0\n",
    "    elif file_arr[i][1] == '军事':\n",
    "        file_arr[i][1] = 1\n",
    "    elif file_arr[i][1] == '财经商业':\n",
    "        file_arr[i][1] = 2\n",
    "    elif file_arr[i][1] == '医药健康':\n",
    "        file_arr[i][1] = 3\n",
    "    elif file_arr[i][1] == '教育考试':\n",
    "        file_arr[i][1] = 4\n",
    "    elif file_arr[i][1] == '文体娱乐':\n",
    "        file_arr[i][1] = 5\n",
    "    elif file_arr[i][1] == '政治':\n",
    "        file_arr[i][1] = 6\n",
    "    elif file_arr[i][1] == '科技':\n",
    "        file_arr[i][1] = 7\n",
    "file_arr"
   ],
   "outputs": [
    {
     "output_type": "execute_result",
     "data": {
      "text/plain": [
       "array([['//分享网易新闻:《发生在昆明的火锅店老板“辱滇门”，云南人该愤怒还是羞愧》|发生在昆明...@网易新闻客户端#网易新闻#',\n",
       "        0, 'real', '63ad082a189566eed7c4bb3e4bc55012.jpg'],\n",
       "       ['西宁城管围殴民警扬言要把警察打死|西宁城管围...', 0, 'real',\n",
       "        '4986dc2a5f09a87c7af5dfc57d7775cd.jpg'],\n",
       "       ['【川航航班因驾驶舱风挡破裂安全备降成都】今天上午6:26从重庆江北国际机场出发前往拉萨的四川航空3U8633次航班因机械故障于7:46备降成都双流国际机场。川航回应：旅客已有序下机休息。据CCFA成都空港缘分微博爆料称，3U8633次航班飞临成都上空时，副驾驶一侧驾驶舱玻璃破碎，随后飞机挂出7700紧急代码，并立即备降成都双流国际机场。“空中突然遇气流，飞机一直连续向下掉几次。”某乘客在朋友圈晒图分享。|川航航班因...',\n",
       "        0, 'real', 'dcfccfc69e90a0007afd6aafa1385e56.jpg'],\n",
       "       ...,\n",
       "       ['令人震惊！查地沟油的记者李翔,死了,身中10余刀,惨死。他为全国不能吃特供的十多亿人民的食品安全努力过。他付出了年轻的生命。为了我们的健康,他付出了年轻的生命。我们能为他做的就是：请动一下鼠标,转发,表达一下谢意。把这信息转发到你的亲戚朋友。',\n",
       "        0, 'fake', 'a9fea668ac5131d23ba1cb0cac6837e2.jpg'],\n",
       "       ['是我朋友的孩子帮帮忙谢谢！寻人启事13940292999。有线索酬金10万帮忙扩散，今天上午一个三岁多小女孩在锦绣花园小区附近被人拐走了，小女孩能说出她爸爸的手机号码从监控上看是被一个四十多岁男人抱走了现大人都急疯了有知情者请告之万分感谢看到信息的兄弟姐妹留意。2安阳·林州百货商场',\n",
       "        0, 'fake', 'd32965c1e487372176bffbe3239e6fb1.jpg'],\n",
       "       ['复旦大学的四个日本留学生在昨天下午酒后将一名大一在校女生和来看她她的表妹劫持到留学生宿舍，对二人进行了长达几个小时的奸淫。警方已经将其中三人拘留。校方现在要求在校学生对案件保持沉默！受害女生已经发疯，几次尝试自杀未遂！15岁的小表妹，还在急救室！',\n",
       "        0, 'fake', 'c0c62adf4eb34da07fabd078e12b1a2c.jpg']], dtype=object)"
      ]
     },
     "metadata": {},
     "execution_count": 200
    }
   ],
   "metadata": {}
  },
  {
   "cell_type": "code",
   "execution_count": 202,
   "source": [
    "output = pd.DataFrame(columns=['text','event_label','label','image'], data=file_arr)\n",
    "output.to_csv('weiboB_train.csv', index=False)"
   ],
   "outputs": [],
   "metadata": {}
  },
  {
   "cell_type": "code",
   "execution_count": null,
   "source": [],
   "outputs": [],
   "metadata": {}
  }
 ],
 "metadata": {
  "orig_nbformat": 4,
  "language_info": {
   "name": "python",
   "version": "3.7.11",
   "mimetype": "text/x-python",
   "codemirror_mode": {
    "name": "ipython",
    "version": 3
   },
   "pygments_lexer": "ipython3",
   "nbconvert_exporter": "python",
   "file_extension": ".py"
  },
  "kernelspec": {
   "name": "python3",
   "display_name": "Python 3.7.11 64-bit ('eann': conda)"
  },
  "interpreter": {
   "hash": "465fa90a28663a9eacb4f6b007ef9489041ea648cb9c03179d70018ef7b6160c"
  }
 },
 "nbformat": 4,
 "nbformat_minor": 2
}
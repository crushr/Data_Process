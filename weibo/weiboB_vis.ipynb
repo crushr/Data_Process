{
 "cells": [
  {
   "cell_type": "code",
   "execution_count": 29,
   "source": [
    "import pickle\n",
    "import os\n",
    "root = '/Users/zhongshannan/Documents/fakenews_detection/dataset/'\n",
    "with open(os.path.join(root + 'weiboBdata.pickle'), 'rb') as f:  \n",
    "    data = pickle.loads(f.read())"
   ],
   "outputs": [],
   "metadata": {}
  },
  {
   "cell_type": "code",
   "execution_count": 30,
   "source": [
    "print(data.keys())\n",
    "print(len(data['id']))"
   ],
   "outputs": [
    {
     "output_type": "stream",
     "name": "stdout",
     "text": [
      "dict_keys(['id', 'text', 'image', 'label', 'event'])\n",
      "20379\n"
     ]
    }
   ],
   "metadata": {}
  },
  {
   "cell_type": "code",
   "execution_count": 31,
   "source": [
    "import pandas as pd\n",
    "column1 = pd.DataFrame(columns = ['text'] , data=data['text'])\n",
    "column2 = pd.DataFrame(columns = ['label'] , data=data['label'])\n",
    "column3 = pd.DataFrame(columns = ['event'] , data=data['event'])\n",
    "df = pd.concat([column1,column2,column3], axis=1)\n",
    "df"
   ],
   "outputs": [
    {
     "output_type": "execute_result",
     "data": {
      "text/html": [
       "<div>\n",
       "<style scoped>\n",
       "    .dataframe tbody tr th:only-of-type {\n",
       "        vertical-align: middle;\n",
       "    }\n",
       "\n",
       "    .dataframe tbody tr th {\n",
       "        vertical-align: top;\n",
       "    }\n",
       "\n",
       "    .dataframe thead th {\n",
       "        text-align: right;\n",
       "    }\n",
       "</style>\n",
       "<table border=\"1\" class=\"dataframe\">\n",
       "  <thead>\n",
       "    <tr style=\"text-align: right;\">\n",
       "      <th></th>\n",
       "      <th>text</th>\n",
       "      <th>label</th>\n",
       "      <th>event</th>\n",
       "    </tr>\n",
       "  </thead>\n",
       "  <tbody>\n",
       "    <tr>\n",
       "      <th>0</th>\n",
       "      <td>//分享网易新闻:《发生在昆明的火锅店老板“辱滇门”，云南人该愤怒还是羞愧》|发生在昆明.....</td>\n",
       "      <td>0</td>\n",
       "      <td>社会生活</td>\n",
       "    </tr>\n",
       "    <tr>\n",
       "      <th>1</th>\n",
       "      <td>西宁城管围殴民警扬言要把警察打死|西宁城管围...</td>\n",
       "      <td>0</td>\n",
       "      <td>社会生活</td>\n",
       "    </tr>\n",
       "    <tr>\n",
       "      <th>2</th>\n",
       "      <td>【川航航班因驾驶舱风挡破裂安全备降成都】今天上午6:26从重庆江北国际机场出发前往拉萨的四川...</td>\n",
       "      <td>0</td>\n",
       "      <td>社会生活</td>\n",
       "    </tr>\n",
       "    <tr>\n",
       "      <th>3</th>\n",
       "      <td>#地震快讯#中国地震台网自动测定：08月08日21时19分在四川阿坝州九寨沟县附近（北纬33...</td>\n",
       "      <td>0</td>\n",
       "      <td>社会生活</td>\n",
       "    </tr>\n",
       "    <tr>\n",
       "      <th>4</th>\n",
       "      <td>#长沙身边事#【石门-常德-长沙动车时刻表出炉9月21日开行】来了，来了，石长铁路动车真的来...</td>\n",
       "      <td>0</td>\n",
       "      <td>社会生活</td>\n",
       "    </tr>\n",
       "    <tr>\n",
       "      <th>...</th>\n",
       "      <td>...</td>\n",
       "      <td>...</td>\n",
       "      <td>...</td>\n",
       "    </tr>\n",
       "    <tr>\n",
       "      <th>20374</th>\n",
       "      <td>2015年4月19日上午，朋友家三岁多小女孩在锦绣花园小区附近被人拐走了，小女孩能说出她爸爸...</td>\n",
       "      <td>1</td>\n",
       "      <td>社会生活</td>\n",
       "    </tr>\n",
       "    <tr>\n",
       "      <th>20375</th>\n",
       "      <td>寻人启事13940292999。有线索酬金10万帮忙扩散，今天上午一个三岁多小女孩在海城嘉和...</td>\n",
       "      <td>1</td>\n",
       "      <td>社会生活</td>\n",
       "    </tr>\n",
       "    <tr>\n",
       "      <th>20376</th>\n",
       "      <td>昨晚青岛暴雨，一人不幸被雷电击中，吸浮到空中，在空中并且多次被雷击，场面十分恐怖惊人</td>\n",
       "      <td>1</td>\n",
       "      <td>社会生活</td>\n",
       "    </tr>\n",
       "    <tr>\n",
       "      <th>20377</th>\n",
       "      <td>是我朋友的孩子帮帮忙谢谢！寻人启事13940292999。有线索酬金10万帮忙扩散，今天上午...</td>\n",
       "      <td>1</td>\n",
       "      <td>社会生活</td>\n",
       "    </tr>\n",
       "    <tr>\n",
       "      <th>20378</th>\n",
       "      <td>复旦大学的四个日本留学生在昨天下午酒后将一名大一在校女生和来看她她的表妹劫持到留学生宿舍，对...</td>\n",
       "      <td>1</td>\n",
       "      <td>社会生活</td>\n",
       "    </tr>\n",
       "  </tbody>\n",
       "</table>\n",
       "<p>20379 rows × 3 columns</p>\n",
       "</div>"
      ],
      "text/plain": [
       "                                                    text  label event\n",
       "0      //分享网易新闻:《发生在昆明的火锅店老板“辱滇门”，云南人该愤怒还是羞愧》|发生在昆明.....      0  社会生活\n",
       "1                              西宁城管围殴民警扬言要把警察打死|西宁城管围...      0  社会生活\n",
       "2      【川航航班因驾驶舱风挡破裂安全备降成都】今天上午6:26从重庆江北国际机场出发前往拉萨的四川...      0  社会生活\n",
       "3      #地震快讯#中国地震台网自动测定：08月08日21时19分在四川阿坝州九寨沟县附近（北纬33...      0  社会生活\n",
       "4      #长沙身边事#【石门-常德-长沙动车时刻表出炉9月21日开行】来了，来了，石长铁路动车真的来...      0  社会生活\n",
       "...                                                  ...    ...   ...\n",
       "20374  2015年4月19日上午，朋友家三岁多小女孩在锦绣花园小区附近被人拐走了，小女孩能说出她爸爸...      1  社会生活\n",
       "20375  寻人启事13940292999。有线索酬金10万帮忙扩散，今天上午一个三岁多小女孩在海城嘉和...      1  社会生活\n",
       "20376         昨晚青岛暴雨，一人不幸被雷电击中，吸浮到空中，在空中并且多次被雷击，场面十分恐怖惊人      1  社会生活\n",
       "20377  是我朋友的孩子帮帮忙谢谢！寻人启事13940292999。有线索酬金10万帮忙扩散，今天上午...      1  社会生活\n",
       "20378  复旦大学的四个日本留学生在昨天下午酒后将一名大一在校女生和来看她她的表妹劫持到留学生宿舍，对...      1  社会生活\n",
       "\n",
       "[20379 rows x 3 columns]"
      ]
     },
     "metadata": {},
     "execution_count": 31
    }
   ],
   "metadata": {}
  },
  {
   "cell_type": "code",
   "execution_count": 34,
   "source": [
    "df['label'].value_counts()"
   ],
   "outputs": [
    {
     "output_type": "execute_result",
     "data": {
      "text/plain": [
       "1    10334\n",
       "0    10045\n",
       "Name: label, dtype: int64"
      ]
     },
     "metadata": {},
     "execution_count": 34
    }
   ],
   "metadata": {}
  },
  {
   "cell_type": "code",
   "execution_count": 35,
   "source": [
    "df['event'].value_counts()"
   ],
   "outputs": [
    {
     "output_type": "execute_result",
     "data": {
      "text/plain": [
       "社会生活    12576\n",
       "医药健康     3731\n",
       "文体娱乐     1440\n",
       "政治        919\n",
       "财经商业      911\n",
       "教育考试      360\n",
       "军事        259\n",
       "科技        183\n",
       "Name: event, dtype: int64"
      ]
     },
     "metadata": {},
     "execution_count": 35
    }
   ],
   "metadata": {}
  },
  {
   "cell_type": "code",
   "execution_count": 41,
   "source": [
    "import seaborn as sns\n",
    "import matplotlib.pyplot as plt\n",
    "import matplotlib.font_manager as fm,os\n",
    "# 中文字体\n",
    "myfont = fm.FontProperties(fname='/System/Library/Fonts/Supplemental/Songti.ttc',size=10)\n",
    "\n",
    "sns.set_theme(style=\"ticks\", color_codes=True)\n",
    "\n",
    "plt.figure(figsize=(20, 8))\n",
    "sns.set(font_scale=2, font=myfont.get_name())\n",
    "ax = sns.countplot(x=\"event\", hue=\"label\", data=df)\n",
    "ax.set_yscale(\"log\")\n",
    "\n",
    "# 调整图例位置（靠左距离，靠下距离）\n",
    "# ax.legend(loc='center right', bbox_to_anchor=(0.13,0.90), ncol=1)\n",
    "\n",
    "plt.show()"
   ],
   "outputs": [
    {
     "output_type": "display_data",
     "data": {
      "image/png": "[encoded data removed]",
      "text/plain": [
       "<Figure size 1440x576 with 1 Axes>"
      ]
     },
     "metadata": {}
    }
   ],
   "metadata": {}
  },
  {
   "cell_type": "code",
   "execution_count": 53,
   "source": [
    "df1 = df[df['event'] == '社会生活']\n",
    "df1.drop(['label'],axis=1,inplace=True)\n",
    "df1.drop(['event'],axis=1,inplace=True)\n",
    "\n",
    "root = '/Users/zhongshannan/Documents/fakenews_detection/dataset/weibo数据集处理/'\n",
    "df1.to_csv(os.path.join(root+'social_life.csv'),index=0)"
   ],
   "outputs": [
    {
     "output_type": "stream",
     "name": "stderr",
     "text": [
      "/var/folders/vz/h2_p04597j1dw_q3wbgtg23w0000gn/T/ipykernel_69060/1490226104.py:2: SettingWithCopyWarning: \n",
      "A value is trying to be set on a copy of a slice from a DataFrame\n",
      "\n",
      "See the caveats in the documentation: https://pandas.pydata.org/pandas-docs/stable/user_guide/indexing.html#returning-a-view-versus-a-copy\n",
      "  df1.drop(['label'],axis=1,inplace=True)\n",
      "/var/folders/vz/h2_p04597j1dw_q3wbgtg23w0000gn/T/ipykernel_69060/1490226104.py:3: SettingWithCopyWarning: \n",
      "A value is trying to be set on a copy of a slice from a DataFrame\n",
      "\n",
      "See the caveats in the documentation: https://pandas.pydata.org/pandas-docs/stable/user_guide/indexing.html#returning-a-view-versus-a-copy\n",
      "  df1.drop(['event'],axis=1,inplace=True)\n"
     ]
    }
   ],
   "metadata": {}
  },
  {
   "cell_type": "code",
   "execution_count": 74,
   "source": [
    "import pandas as pd\n",
    "import os\n",
    "data = pd.read_csv(os.path.join(root+'social_life.csv'), encoding='utf-8')\n",
    "with open(os.path.join(root+'social_life.txt'),'w+', encoding='utf-8') as f:\n",
    "    for line in data.values:\n",
    "        f.write(line[0] + '\\n')"
   ],
   "outputs": [],
   "metadata": {}
  },
  {
   "cell_type": "code",
   "execution_count": 75,
   "source": [
    "import logging\n",
    "import collections\n",
    "import re\n",
    "import math\n",
    "import jieba\n",
    "from wordcloud import WordCloud\n",
    "jieba.setLogLevel(logging.INFO)\n",
    "import os\n",
    "\n",
    "root_path = '/Users/zhongshannan/Documents/fakenews_detection/dataset/weibo数据集处理/'\n",
    "\n",
    "def stopwordslist():\n",
    "    stopwords = [line.strip() for line in open(os.path.join(root_path, 'stop_words.txt'), encoding='UTF-8').readlines()]\n",
    "    stopwords = [k for s in stopwords for k in s]\n",
    "    return stopwords\n",
    "\n",
    "f = open(os.path.join(root_path, 'social_life.txt'), \"r\", encoding=\"utf-8\")\n",
    "text = f.read()\n",
    "f.close()\n",
    "\n",
    "TopWordFrequencyPercentage = 20\n",
    "TopWordFrequencyPercentage /= 100\n",
    "\n",
    "# jieba分词\n",
    "seg = jieba.cut(text)\n",
    "seg = \" \".join(seg)\n",
    "seg = seg.strip()\n",
    "seg = re.sub(r\"[0-9\\s+\\.\\!\\/_,$%^*()?;；:-【】+\\\"\\']+|[+——！，;:：。？、~@#￥%……&*（）]+\", \" \", seg)\n",
    "seg = seg.split(\" \")\n",
    "seg = list(filter(None, seg))\n",
    "stopwords = stopwordslist()\n",
    "seg = [v for v in seg if v not in stopwords]\n",
    "word_counts = collections.Counter(seg)\n",
    "\n",
    "from matplotlib.colors import LinearSegmentedColormap\n",
    "colors = [\"#000000\", \"#111111\", \"#101010\", \"#121212\", \"#212121\", \"#222222\"]\n",
    "cmap = LinearSegmentedColormap.from_list(\"mycmap\", colors)\n",
    "\n",
    "# 生成词云\n",
    "wc = WordCloud(\n",
    "    max_words=math.ceil(len(word_counts) * TopWordFrequencyPercentage),\n",
    "    width=500,\n",
    "    height=350,\n",
    "    max_font_size=50,\n",
    "    min_font_size=10,\n",
    "    font_path='/System/Library/Fonts/Supplemental/Songti.ttc',\n",
    "    background_color='white',\n",
    "    colormap=cmap,\n",
    ")\n",
    "\n",
    "wc.generate_from_frequencies(word_counts)\n",
    "\n",
    "PicSavePath = \"social_life.png\"\n",
    "wc.to_file(PicSavePath)"
   ],
   "outputs": [
    {
     "output_type": "execute_result",
     "data": {
      "text/plain": [
       "<wordcloud.wordcloud.WordCloud at 0x7f87f2340940>"
      ]
     },
     "metadata": {},
     "execution_count": 75
    }
   ],
   "metadata": {}
  }
 ],
 "metadata": {
  "orig_nbformat": 4,
  "language_info": {
   "name": "python",
   "version": "3.8.11",
   "mimetype": "text/x-python",
   "codemirror_mode": {
    "name": "ipython",
    "version": 3
   },
   "pygments_lexer": "ipython3",
   "nbconvert_exporter": "python",
   "file_extension": ".py"
  },
  "kernelspec": {
   "name": "python3",
   "display_name": "Python 3.8.11 64-bit ('Py38': conda)"
  },
  "interpreter": {
   "hash": "62792cbd3b5bf2807c49140b9dd77f3574e6f3863eef786f6f586b1ba9747cfd"
  }
 },
 "nbformat": 4,
 "nbformat_minor": 2
}
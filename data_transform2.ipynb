{
 "cells": [
  {
   "cell_type": "code",
   "execution_count": 44,
   "source": [
    "import pickle\n",
    "test = pickle.load(open('./test.pickle', 'rb'))"
   ],
   "outputs": [],
   "metadata": {}
  },
  {
   "cell_type": "code",
   "execution_count": 45,
   "source": [
    "for i in range(len(test['image'])):\n",
    "    test['image'][i] = test['image'][i][0]"
   ],
   "outputs": [],
   "metadata": {}
  },
  {
   "cell_type": "code",
   "execution_count": 51,
   "source": [
    "import pickle\n",
    "test = pickle.load(open('./test.pickle', 'rb'))\n",
    "\n",
    "import pandas as pd\n",
    "name = ['label']\n",
    "test = pd.DataFrame(columns = name,data=test['label'])\n",
    "test.to_csv('test1.csv', index=False)"
   ],
   "outputs": [],
   "metadata": {}
  },
  {
   "cell_type": "code",
   "execution_count": 2,
   "source": [
    "# pickle转csv 完整\n",
    "import pickle    \n",
    "import pandas as pd\n",
    "test = pickle.load(open('./validate.pickle', 'rb'))\n",
    "\n",
    "for i in range(len(test['text'])):\n",
    "    test['text'][i] = test['text'][i][:-1]\n",
    "    test['image'][i] = test['image'][i][0][:-4]  # 取到jpg\n",
    "    # test['image'][i] = test['image'][i][:-4]\n",
    "    test['label'][i] = \"real\" if test['label'][i] == 1 else \"fake\"\n",
    "# print(len(test['text']),type(test['text']),len(test['image']),type(test['image']),len(test['label']),type(test['label']))\n",
    "\n",
    "test1 = pd.DataFrame(columns = ['post_text'] , data=test['text'])\n",
    "test2 = pd.DataFrame(columns = ['image_id'] , data=test['image'])\n",
    "test3 = pd.DataFrame(columns = ['label'] , data=test['label'])\n",
    "df = pd.concat([test1,test2,test3], axis=1)\n",
    "df.to_csv(\"val_weibo.csv\", encoding='utf-8', index=False)"
   ],
   "outputs": [],
   "metadata": {}
  },
  {
   "cell_type": "code",
   "execution_count": null,
   "source": [],
   "outputs": [],
   "metadata": {}
  }
 ],
 "metadata": {
  "orig_nbformat": 4,
  "language_info": {
   "name": "python",
   "version": "3.8.11",
   "mimetype": "text/x-python",
   "codemirror_mode": {
    "name": "ipython",
    "version": 3
   },
   "pygments_lexer": "ipython3",
   "nbconvert_exporter": "python",
   "file_extension": ".py"
  },
  "kernelspec": {
   "name": "python3",
   "display_name": "Python 3.8.11 64-bit ('py38': conda)"
  },
  "interpreter": {
   "hash": "8d9acd1123aa4f7f9e113f5bc7510a452f5c24cf026775e448db0806dd810e6c"
  }
 },
 "nbformat": 4,
 "nbformat_minor": 2
}
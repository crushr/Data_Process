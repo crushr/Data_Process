{
 "cells": [
  {
   "cell_type": "markdown",
   "source": [
    "## 对微博数据集进行数据处理"
   ],
   "metadata": {}
  },
  {
   "cell_type": "code",
   "execution_count": 1,
   "source": [
    "import seaborn as sns\n",
    "import matplotlib.pyplot as plt\n",
    "import csv\n",
    "import pandas as pd\n",
    "import os\n",
    "import nltk\n",
    "from nltk.corpus import stopwords\n",
    "import string\n",
    "import seaborn as sns"
   ],
   "outputs": [],
   "metadata": {}
  },
  {
   "cell_type": "markdown",
   "source": [
    "## 基本思路：\n",
    "## 按行分别递归选出第二行（图片id）第三行（推文）\n",
    "## 第二行只取第一幅图;第三行加上标签fake & real\n",
    "## 将第二和第三行推文直接concat\n",
    "## 完成"
   ],
   "metadata": {}
  },
  {
   "cell_type": "code",
   "execution_count": 22,
   "source": [
    "# 按行分别递归选出第二行（图片id）\n",
    "import pandas as pd\n",
    "\n",
    "test = open(\"./tweets/train_fake_img.txt\",'a') #每隔三行取出微博文本数据\n",
    "with open(\"./tweets/train_rumor.txt\") as f:\n",
    "    lines = f.readlines()\n",
    "    for i in range(lines.__len__()):\n",
    "        if i % 3 ==0:\n",
    "            test.write(lines[i])\n",
    "test.close()  \n",
    "\n",
    "df = pd.read_csv(\"./tweets/train_fake_img.txt\",delimiter=\"\\t\")  #txt转为csv\n",
    "\n",
    "# df.insert(1,'0',0)#插入一列标签\n",
    "\n",
    "df.to_csv(\"./tweets/train_fake_img.csv\", encoding='utf-8', index=False)#输出csv"
   ],
   "outputs": [],
   "metadata": {}
  },
  {
   "cell_type": "code",
   "execution_count": 23,
   "source": [
    "# 按行分别递归选出第三行（推文）\n",
    "import pandas as pd\n",
    "\n",
    "test = open(\"./tweets/train_fake_post.txt\",'a') #每隔三行取出微博文本数据\n",
    "with open(\"./tweets/train_rumor.txt\") as f:\n",
    "    lines = f.readlines()\n",
    "    for i in range(lines.__len__()):\n",
    "        if i % 3 ==0:\n",
    "            test.write(lines[i])\n",
    "test.close()  \n",
    "\n",
    "df = pd.read_csv(\"./tweets/train_fake_post.txt\",delimiter=\"\\t\")  #txt转为csv\n",
    "\n",
    "# df.insert(1,'0',0)#插入一列标签\n",
    "\n",
    "df.to_csv(\"./tweets/train_fake_post.csv\", encoding='utf-8', index=False)#输出csv"
   ],
   "outputs": [],
   "metadata": {}
  },
  {
   "cell_type": "code",
   "execution_count": 24,
   "source": [
    "# 插入标签 & 修改标签列\n",
    "df = pd.read_csv(\"./tweets/train_fake_post.csv\")\n",
    "# df['label'] = 'real'\n",
    "df.insert(1,'label','fake')\n",
    "df.to_csv(\"./tweets/train_fake_post.csv\", encoding='utf-8', index=False)"
   ],
   "outputs": [],
   "metadata": {}
  },
  {
   "cell_type": "code",
   "execution_count": 25,
   "source": [
    "# 读取img_id的第一张图片的第一个名字\n",
    "fi = open(\"./tweets/train_fake_img_1.csv\",'a')\n",
    "with open(\"./tweets/train_fake_img.csv\") as f:\n",
    "    lines = f.readlines()\n",
    "    for i in range(lines.__len__()):\n",
    "        lists = lines[i].split('|')\n",
    "        lists = lists[0].split('/')\n",
    "        lists = lists[-1].split('.')\n",
    "        fi.write(lists[0]+'\\n')\n",
    "fi.close()"
   ],
   "outputs": [],
   "metadata": {}
  },
  {
   "cell_type": "code",
   "execution_count": 26,
   "source": [
    "# 拼接两个csv\n",
    "import pandas as pd\n",
    "df1 = pd.read_csv(\"./tweets/train_fake_post.csv\")\n",
    "df2 = pd.read_csv(\"./tweets/train_fake_img_1.csv\")\n",
    "df = pd.concat([df2,df1], axis=1)\n",
    "df.to_csv(\"./tweets/train_fake_post_img.csv\", encoding='utf-8', index=False)\n",
    "df"
   ],
   "outputs": [
    {
     "output_type": "execute_result",
     "data": {
      "text/html": [
       "<div>\n",
       "<style scoped>\n",
       "    .dataframe tbody tr th:only-of-type {\n",
       "        vertical-align: middle;\n",
       "    }\n",
       "\n",
       "    .dataframe tbody tr th {\n",
       "        vertical-align: top;\n",
       "    }\n",
       "\n",
       "    .dataframe thead th {\n",
       "        text-align: right;\n",
       "    }\n",
       "</style>\n",
       "<table border=\"1\" class=\"dataframe\">\n",
       "  <thead>\n",
       "    <tr style=\"text-align: right;\">\n",
       "      <th></th>\n",
       "      <th>img_id</th>\n",
       "      <th>post_text</th>\n",
       "      <th>label</th>\n",
       "    </tr>\n",
       "  </thead>\n",
       "  <tbody>\n",
       "    <tr>\n",
       "      <th>0</th>\n",
       "      <td>a71ac854gw1dytin2zmk9j</td>\n",
       "      <td>震惊，转发求证：【想都不敢想 ，在美国一桶金龙鱼食用油只要8元人民币】 一桶食用油相当于中国...</td>\n",
       "      <td>fake</td>\n",
       "    </tr>\n",
       "    <tr>\n",
       "      <th>1</th>\n",
       "      <td>3ba161e7jw1e4i6j4ep61j211n0r4juz</td>\n",
       "      <td>【法院无底线】湖南长沙一位小朋友上学路上捡到3万元，原地不动等失主，结果被人冒领。不知情的孩...</td>\n",
       "      <td>fake</td>\n",
       "    </tr>\n",
       "    <tr>\n",
       "      <th>2</th>\n",
       "      <td>006ajvCngw1ex4jjl2pwlj30c8096wf7</td>\n",
       "      <td>转发:我校需要小孩的衣服,新旧不限!西藏阿里地区是世界海拔最高的地区请问周围有没有四到十岁孩...</td>\n",
       "      <td>fake</td>\n",
       "    </tr>\n",
       "    <tr>\n",
       "      <th>3</th>\n",
       "      <td>6112c76ajw1e591p39mpej20hw094mxh</td>\n",
       "      <td>立刻检查一下你家里的牙膏，如果是黑色条马上扔掉！ 大家买膏请留心,买牙膏时注意牙膏管反面 底...</td>\n",
       "      <td>fake</td>\n",
       "    </tr>\n",
       "    <tr>\n",
       "      <th>4</th>\n",
       "      <td>a5404163jw1e2iljwbrztj</td>\n",
       "      <td>快快转发，急急急！中央电视台《焦点访谈》已经播出，可口可乐承认旗下(果粒橙)含有美国禁用农药...</td>\n",
       "      <td>fake</td>\n",
       "    </tr>\n",
       "    <tr>\n",
       "      <th>...</th>\n",
       "      <td>...</td>\n",
       "      <td>...</td>\n",
       "      <td>...</td>\n",
       "    </tr>\n",
       "    <tr>\n",
       "      <th>3691</th>\n",
       "      <td>d833a573gw1exhmx4imboj20hs0vk76d</td>\n",
       "      <td>求证：这是否是真实情况？（发生在安徽省太和县一起强拆残案，黑社会打死了一家七口，当地政府己封...</td>\n",
       "      <td>fake</td>\n",
       "    </tr>\n",
       "    <tr>\n",
       "      <th>3692</th>\n",
       "      <td>79cacd67jw1esk5kklwx8j207y0dcaax</td>\n",
       "      <td>转帖：我校需要小孩的衣服！西藏阿里地区；周围有没有四到十岁孩子的旧衣服和鞋子，洗干净就可以；...</td>\n",
       "      <td>fake</td>\n",
       "    </tr>\n",
       "    <tr>\n",
       "      <th>3693</th>\n",
       "      <td>55d78efajw1e6dcwgwnhcj20go0buq3q</td>\n",
       "      <td>最牛交警PK最嚣张军车司机_新余吧_百度贴吧 O网页链接</td>\n",
       "      <td>fake</td>\n",
       "    </tr>\n",
       "    <tr>\n",
       "      <th>3694</th>\n",
       "      <td>6b92ad47jw1ebckes8r0ej20hs0hswgk</td>\n",
       "      <td>希望是真的  特大好消息！卖狗肉违法了！ 国家食品药品监督局11月1日开始集中受理狗肉馆举报...</td>\n",
       "      <td>fake</td>\n",
       "    </tr>\n",
       "    <tr>\n",
       "      <th>3695</th>\n",
       "      <td>668669eagw1ec59jtclygj20g40c3tbe</td>\n",
       "      <td>@朱秋霞77:寻人 13969597919帮忙扩散，今天上午一个三岁多小女孩在高新开发区怡馨...</td>\n",
       "      <td>fake</td>\n",
       "    </tr>\n",
       "  </tbody>\n",
       "</table>\n",
       "<p>3696 rows × 3 columns</p>\n",
       "</div>"
      ],
      "text/plain": [
       "                                img_id  \\\n",
       "0               a71ac854gw1dytin2zmk9j   \n",
       "1     3ba161e7jw1e4i6j4ep61j211n0r4juz   \n",
       "2     006ajvCngw1ex4jjl2pwlj30c8096wf7   \n",
       "3     6112c76ajw1e591p39mpej20hw094mxh   \n",
       "4               a5404163jw1e2iljwbrztj   \n",
       "...                                ...   \n",
       "3691  d833a573gw1exhmx4imboj20hs0vk76d   \n",
       "3692  79cacd67jw1esk5kklwx8j207y0dcaax   \n",
       "3693  55d78efajw1e6dcwgwnhcj20go0buq3q   \n",
       "3694  6b92ad47jw1ebckes8r0ej20hs0hswgk   \n",
       "3695  668669eagw1ec59jtclygj20g40c3tbe   \n",
       "\n",
       "                                              post_text label  \n",
       "0     震惊，转发求证：【想都不敢想 ，在美国一桶金龙鱼食用油只要8元人民币】 一桶食用油相当于中国...  fake  \n",
       "1     【法院无底线】湖南长沙一位小朋友上学路上捡到3万元，原地不动等失主，结果被人冒领。不知情的孩...  fake  \n",
       "2     转发:我校需要小孩的衣服,新旧不限!西藏阿里地区是世界海拔最高的地区请问周围有没有四到十岁孩...  fake  \n",
       "3     立刻检查一下你家里的牙膏，如果是黑色条马上扔掉！ 大家买膏请留心,买牙膏时注意牙膏管反面 底...  fake  \n",
       "4     快快转发，急急急！中央电视台《焦点访谈》已经播出，可口可乐承认旗下(果粒橙)含有美国禁用农药...  fake  \n",
       "...                                                 ...   ...  \n",
       "3691  求证：这是否是真实情况？（发生在安徽省太和县一起强拆残案，黑社会打死了一家七口，当地政府己封...  fake  \n",
       "3692  转帖：我校需要小孩的衣服！西藏阿里地区；周围有没有四到十岁孩子的旧衣服和鞋子，洗干净就可以；...  fake  \n",
       "3693                       最牛交警PK最嚣张军车司机_新余吧_百度贴吧 O网页链接  fake  \n",
       "3694  希望是真的  特大好消息！卖狗肉违法了！ 国家食品药品监督局11月1日开始集中受理狗肉馆举报...  fake  \n",
       "3695  @朱秋霞77:寻人 13969597919帮忙扩散，今天上午一个三岁多小女孩在高新开发区怡馨...  fake  \n",
       "\n",
       "[3696 rows x 3 columns]"
      ]
     },
     "metadata": {},
     "execution_count": 26
    }
   ],
   "metadata": {}
  },
  {
   "cell_type": "code",
   "execution_count": null,
   "source": [],
   "outputs": [],
   "metadata": {}
  }
 ],
 "metadata": {
  "orig_nbformat": 4,
  "language_info": {
   "name": "python",
   "version": "3.8.11",
   "mimetype": "text/x-python",
   "codemirror_mode": {
    "name": "ipython",
    "version": 3
   },
   "pygments_lexer": "ipython3",
   "nbconvert_exporter": "python",
   "file_extension": ".py"
  },
  "kernelspec": {
   "name": "python3",
   "display_name": "Python 3.8.11 64-bit ('py38': conda)"
  },
  "interpreter": {
   "hash": "8d9acd1123aa4f7f9e113f5bc7510a452f5c24cf026775e448db0806dd810e6c"
  }
 },
 "nbformat": 4,
 "nbformat_minor": 2
}
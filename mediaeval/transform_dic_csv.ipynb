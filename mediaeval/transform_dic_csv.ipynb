{
 "cells": [
  {
   "cell_type": "code",
   "execution_count": 4,
   "source": [
    "import pickle    \n",
    "import pandas as pd\n",
    "test = pickle.load(open('/Users/zhongshannan/Desktop/train.pickle', 'rb'))\n",
    "\n",
    "for i in range(len(test['text'])):\n",
    "    test['text'][i] = test['text'][i][:-1]\n",
    "    #test['image'][i] = test['image'][i][0][:-4]  # 取到jpg\n",
    "    test['image'][i] = test['image'][i][:] # 全取\n",
    "    test['label'][i] = \"fake\" if test['label'][i] == 0 else \"real\" # label从01转换fake real\n",
    "    test['event'][i] = test['event'][i]\n",
    "\n",
    "test1 = pd.DataFrame(columns = ['text'] , data=test['text'])\n",
    "test2 = pd.DataFrame(columns = ['image'] , data=test['image'])\n",
    "test3 = pd.DataFrame(columns = ['label'] , data=test['label'])\n",
    "test4 = pd.DataFrame(columns = ['event_label'] , data=test['event'])\n",
    "df = pd.concat([test1,test2,test3,test4], axis=1)\n",
    "df.to_csv(\"/Users/zhongshannan/Documents/fakenews_detection/dataset/twitter_recon/twitter_cleaned/weibo_train.csv\", encoding='utf-8', index=False)"
   ],
   "outputs": [],
   "metadata": {}
  },
  {
   "cell_type": "code",
   "execution_count": 8,
   "source": [
    "import pickle    \n",
    "import pandas as pd\n",
    "test = pickle.load(open('/Users/zhongshannan/Desktop/test.pickle', 'rb'))\n",
    "\n",
    "for i in range(len(test['text'])):\n",
    "    test['text'][i] = test['text'][i][:-1]\n",
    "    #test['image'][i] = test['image'][i][0][:-4]  # 取到jpg\n",
    "    test['image'][i] = test['image'][i][:] # 全取\n",
    "    test['label'][i] = \"fake\" if test['label'][i] == 0 else \"real\" # label从01转换fake real\n",
    "    test['event'][i] = test['event'][i]\n",
    "\n",
    "test1 = pd.DataFrame(columns = ['text'] , data=test['text'])\n",
    "test2 = pd.DataFrame(columns = ['image'] , data=test['image'])\n",
    "test3 = pd.DataFrame(columns = ['label'] , data=test['label'])\n",
    "test4 = pd.DataFrame(columns = ['event_label'] , data=test['event'])\n",
    "df = pd.concat([test1,test2,test3,test4], axis=1)\n",
    "df.to_csv(\"/Users/zhongshannan/Documents/fakenews_detection/dataset/twitter_recon/twitter_cleaned/weibo_test.csv\", encoding='utf-8', index=False)"
   ],
   "outputs": [],
   "metadata": {}
  },
  {
   "cell_type": "code",
   "execution_count": 9,
   "source": [
    "import pickle    \n",
    "import pandas as pd\n",
    "test = pickle.load(open('/Users/zhongshannan/Desktop/validate.pickle', 'rb'))\n",
    "\n",
    "for i in range(len(test['text'])):\n",
    "    test['text'][i] = test['text'][i][:-1]\n",
    "    #test['image'][i] = test['image'][i][0][:-4]  # 取到jpg\n",
    "    test['image'][i] = test['image'][i][:] # 全取\n",
    "    test['label'][i] = \"fake\" if test['label'][i] == 0 else \"real\" # label从01转换fake real\n",
    "    test['event'][i] = test['event'][i]\n",
    "\n",
    "test1 = pd.DataFrame(columns = ['text'] , data=test['text'])\n",
    "test2 = pd.DataFrame(columns = ['image'] , data=test['image'])\n",
    "test3 = pd.DataFrame(columns = ['label'] , data=test['label'])\n",
    "test4 = pd.DataFrame(columns = ['event_label'] , data=test['event'])\n",
    "df = pd.concat([test1,test2,test3,test4], axis=1)\n",
    "df.to_csv(\"/Users/zhongshannan/Documents/fakenews_detection/dataset/twitter_recon/twitter_cleaned/weibo_validate.csv\", encoding='utf-8', index=False)"
   ],
   "outputs": [],
   "metadata": {}
  },
  {
   "cell_type": "code",
   "execution_count": null,
   "source": [],
   "outputs": [],
   "metadata": {}
  }
 ],
 "metadata": {
  "orig_nbformat": 4,
  "language_info": {
   "name": "python",
   "version": "3.7.11",
   "mimetype": "text/x-python",
   "codemirror_mode": {
    "name": "ipython",
    "version": 3
   },
   "pygments_lexer": "ipython3",
   "nbconvert_exporter": "python",
   "file_extension": ".py"
  },
  "kernelspec": {
   "name": "python3",
   "display_name": "Python 3.7.11 64-bit ('eann': conda)"
  },
  "interpreter": {
   "hash": "465fa90a28663a9eacb4f6b007ef9489041ea648cb9c03179d70018ef7b6160c"
  }
 },
 "nbformat": 4,
 "nbformat_minor": 2
}
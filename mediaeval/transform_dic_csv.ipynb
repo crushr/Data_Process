{
 "cells": [
  {
   "cell_type": "code",
   "execution_count": 4,
   "source": [
    "import pickle    \n",
    "import pandas as pd\n",
    "test = pickle.load(open('/Users/zhongshannan/Desktop/train.pickle', 'rb'))\n",
    "\n",
    "for i in range(len(test['text'])):\n",
    "    test['text'][i] = test['text'][i][:-1]\n",
    "    #test['image'][i] = test['image'][i][0][:-4]  # 取到jpg\n",
    "    test['image'][i] = test['image'][i][:] # 全取\n",
    "    test['label'][i] = \"fake\" if test['label'][i] == 0 else \"real\" # label从01转换fake real\n",
    "    test['event'][i] = test['event'][i]\n",
    "\n",
    "test1 = pd.DataFrame(columns = ['text'] , data=test['text'])\n",
    "test2 = pd.DataFrame(columns = ['image'] , data=test['image'])\n",
    "test3 = pd.DataFrame(columns = ['label'] , data=test['label'])\n",
    "test4 = pd.DataFrame(columns = ['event_label'] , data=test['event'])\n",
    "df = pd.concat([test1,test2,test3,test4], axis=1)\n",
    "df.to_csv(\"/Users/zhongshannan/Documents/fakenews_detection/dataset/twitter_recon/twitter_cleaned/weibo_train.csv\", encoding='utf-8', index=False)"
   ],
   "outputs": [],
   "metadata": {}
  },
  {
   "cell_type": "markdown",
   "source": [
    "# twitter mvae处理"
   ],
   "metadata": {}
  },
  {
   "cell_type": "code",
   "execution_count": 9,
   "source": [
    "import pickle\n",
    "import pandas as pd\n",
    "test = pickle.load(open('/Users/zhongshannan/Documents/fakenews_detection/dataset/twitter_recon/twitter_mvae/train.pickle', 'rb'))\n",
    "sum(test['label'])"
   ],
   "outputs": [
    {
     "output_type": "execute_result",
     "data": {
      "text/plain": [
       "5188"
      ]
     },
     "metadata": {},
     "execution_count": 9
    }
   ],
   "metadata": {}
  },
  {
   "cell_type": "code",
   "execution_count": 8,
   "source": [
    "import pickle\n",
    "import pandas as pd\n",
    "test = pickle.load(open('/Users/zhongshannan/Documents/fakenews_detection/dataset/twitter_recon/twitter_mvae/test.pickle', 'rb'))\n",
    "\n",
    "for i in range(len(test['text'])):\n",
    "    test['text'][i] = test['text'][i][:-1]\n",
    "    #test['image'][i] = test['image'][i][0][:-4]  # 取到jpg\n",
    "    test['image'][i] = test['image'][i][0][:] + '.jpg' # 全取\n",
    "    test['label'][i] = \"fake\" if test['label'][i] == 0 else \"real\" # label从01转换fake real\n",
    "    test['event'][i] = test['event'][i]\n",
    "\n",
    "test1 = pd.DataFrame(columns = ['text'] , data=test['text'])\n",
    "test2 = pd.DataFrame(columns = ['image'] , data=test['image'])\n",
    "test3 = pd.DataFrame(columns = ['label'] , data=test['label'])\n",
    "test4 = pd.DataFrame(columns = ['event_label'] , data=test['event'])\n",
    "df = pd.concat([test1,test2,test3,test4], axis=1)\n",
    "df.to_csv(\"/Users/zhongshannan/Documents/fakenews_detection/dataset/twitter_recon/twitter_mvae/weibo_test.csv\", encoding='utf-8', index=False)"
   ],
   "outputs": [],
   "metadata": {}
  },
  {
   "cell_type": "markdown",
   "source": [
    "检查验证集事件"
   ],
   "metadata": {}
  },
  {
   "cell_type": "code",
   "execution_count": 2,
   "source": [
    "import pandas as pd\n",
    "file1 = pd.read_csv('/Users/zhongshannan/Documents/fakenews_detection/dataset/twitter_recon/twitter_mvae/train.csv')\n",
    "\n",
    "# images=[]\n",
    "# for image_name in file['image']:\n",
    "#     images.append(image_name[:-7]) \n",
    "# set(images),print(file['event_label'].unique())\n",
    "\n",
    "len(set(file1['event_label']))"
   ],
   "outputs": [
    {
     "output_type": "execute_result",
     "data": {
      "text/plain": [
       "9"
      ]
     },
     "metadata": {},
     "execution_count": 2
    }
   ],
   "metadata": {}
  },
  {
   "cell_type": "code",
   "execution_count": 3,
   "source": [
    "file1.head()"
   ],
   "outputs": [
    {
     "output_type": "execute_result",
     "data": {
      "text/html": [
       "<div>\n",
       "<style scoped>\n",
       "    .dataframe tbody tr th:only-of-type {\n",
       "        vertical-align: middle;\n",
       "    }\n",
       "\n",
       "    .dataframe tbody tr th {\n",
       "        vertical-align: top;\n",
       "    }\n",
       "\n",
       "    .dataframe thead th {\n",
       "        text-align: right;\n",
       "    }\n",
       "</style>\n",
       "<table border=\"1\" class=\"dataframe\">\n",
       "  <thead>\n",
       "    <tr style=\"text-align: right;\">\n",
       "      <th></th>\n",
       "      <th>Unnamed: 0</th>\n",
       "      <th>post_id</th>\n",
       "      <th>image_id</th>\n",
       "      <th>original_post</th>\n",
       "      <th>post_text</th>\n",
       "      <th>label</th>\n",
       "      <th>event_label</th>\n",
       "    </tr>\n",
       "  </thead>\n",
       "  <tbody>\n",
       "    <tr>\n",
       "      <th>0</th>\n",
       "      <td>0</td>\n",
       "      <td>324597532548276224</td>\n",
       "      <td>boston_fake_03</td>\n",
       "      <td>do not need feds to solve the  #bostonbombing ...</td>\n",
       "      <td>[]</td>\n",
       "      <td>1</td>\n",
       "      <td>0</td>\n",
       "    </tr>\n",
       "    <tr>\n",
       "      <th>1</th>\n",
       "      <td>1</td>\n",
       "      <td>325145334739267584</td>\n",
       "      <td>boston_fake_23</td>\n",
       "      <td>pic  comparison of  #boston suspect sunil trip...</td>\n",
       "      <td>[]</td>\n",
       "      <td>1</td>\n",
       "      <td>0</td>\n",
       "    </tr>\n",
       "    <tr>\n",
       "      <th>2</th>\n",
       "      <td>2</td>\n",
       "      <td>325152091423248385</td>\n",
       "      <td>boston_fake_34</td>\n",
       "      <td>i am not completely convinced that it is  this...</td>\n",
       "      <td>[]</td>\n",
       "      <td>1</td>\n",
       "      <td>0</td>\n",
       "    </tr>\n",
       "    <tr>\n",
       "      <th>3</th>\n",
       "      <td>3</td>\n",
       "      <td>324315545572896768</td>\n",
       "      <td>boston_fake_15</td>\n",
       "      <td>4chan and the bombing  just throwing it out there</td>\n",
       "      <td>[]</td>\n",
       "      <td>1</td>\n",
       "      <td>0</td>\n",
       "    </tr>\n",
       "    <tr>\n",
       "      <th>4</th>\n",
       "      <td>4</td>\n",
       "      <td>324581777614180352</td>\n",
       "      <td>boston_fake_08</td>\n",
       "      <td>4chan thinks they found pictures of the bomber</td>\n",
       "      <td>[]</td>\n",
       "      <td>1</td>\n",
       "      <td>0</td>\n",
       "    </tr>\n",
       "  </tbody>\n",
       "</table>\n",
       "</div>"
      ],
      "text/plain": [
       "   Unnamed: 0             post_id        image_id  \\\n",
       "0           0  324597532548276224  boston_fake_03   \n",
       "1           1  325145334739267584  boston_fake_23   \n",
       "2           2  325152091423248385  boston_fake_34   \n",
       "3           3  324315545572896768  boston_fake_15   \n",
       "4           4  324581777614180352  boston_fake_08   \n",
       "\n",
       "                                       original_post post_text  label  \\\n",
       "0  do not need feds to solve the  #bostonbombing ...        []      1   \n",
       "1  pic  comparison of  #boston suspect sunil trip...        []      1   \n",
       "2  i am not completely convinced that it is  this...        []      1   \n",
       "3  4chan and the bombing  just throwing it out there        []      1   \n",
       "4     4chan thinks they found pictures of the bomber        []      1   \n",
       "\n",
       "   event_label  \n",
       "0            0  \n",
       "1            0  \n",
       "2            0  \n",
       "3            0  \n",
       "4            0  "
      ]
     },
     "metadata": {},
     "execution_count": 3
    }
   ],
   "metadata": {}
  },
  {
   "cell_type": "code",
   "execution_count": 2,
   "source": [
    "import pandas as pd\n",
    "file_ = pd.read_csv('/Users/zhongshannan/Downloads/train.csv')\n",
    "file_['event_label'].value_counts()"
   ],
   "outputs": [
    {
     "output_type": "execute_result",
     "data": {
      "text/plain": [
       "3    7589\n",
       "0     482\n",
       "4     266\n",
       "1     191\n",
       "8      86\n",
       "5      70\n",
       "2      43\n",
       "6       3\n",
       "7       2\n",
       "Name: event_label, dtype: int64"
      ]
     },
     "metadata": {},
     "execution_count": 2
    }
   ],
   "metadata": {}
  },
  {
   "cell_type": "markdown",
   "source": [
    "处理新Twitter数据"
   ],
   "metadata": {}
  },
  {
   "cell_type": "code",
   "execution_count": 15,
   "source": [
    "import pandas as pd\n",
    "import numpy as np\n",
    "file_ = pd.read_csv('/Users/zhongshannan/Downloads/validate.csv')\n",
    "# 转为numpy\n",
    "file_ = np.array(file_)\n",
    "file_[0,:]"
   ],
   "outputs": [
    {
     "output_type": "execute_result",
     "data": {
      "text/plain": [
       "array([0, 578844275061981184, 'eclipse_01',\n",
       "       'dit dus  0  rt   \\\\@news_executive  the solar eclipse seen from international space station   #solareclipse  #iss  #space',\n",
       "       '[]', 1, 0], dtype=object)"
      ]
     },
     "metadata": {},
     "execution_count": 15
    }
   ],
   "metadata": {}
  },
  {
   "cell_type": "code",
   "execution_count": 16,
   "source": [
    "# 加.jpg\n",
    "for i in range(len(file_)):\n",
    "    file_[i, 2] = file_[i, 2] + '.jpg'\n",
    "file_[0,:]"
   ],
   "outputs": [
    {
     "output_type": "execute_result",
     "data": {
      "text/plain": [
       "array([0, 578844275061981184, 'eclipse_01.jpg',\n",
       "       'dit dus  0  rt   \\\\@news_executive  the solar eclipse seen from international space station   #solareclipse  #iss  #space',\n",
       "       '[]', 1, 0], dtype=object)"
      ]
     },
     "metadata": {},
     "execution_count": 16
    }
   ],
   "metadata": {}
  },
  {
   "cell_type": "code",
   "execution_count": 17,
   "source": [
    "# 转换标签\n",
    "for i in range(len(file_)):\n",
    "    if file_[i, 5] == 0:\n",
    "        file_[i, 5] = 'real'\n",
    "    else:\n",
    "        file_[i, 5] = 'fake'\n",
    "file_[0,:]"
   ],
   "outputs": [
    {
     "output_type": "execute_result",
     "data": {
      "text/plain": [
       "array([0, 578844275061981184, 'eclipse_01.jpg',\n",
       "       'dit dus  0  rt   \\\\@news_executive  the solar eclipse seen from international space station   #solareclipse  #iss  #space',\n",
       "       '[]', 'fake', 0], dtype=object)"
      ]
     },
     "metadata": {},
     "execution_count": 17
    }
   ],
   "metadata": {}
  },
  {
   "cell_type": "code",
   "execution_count": 18,
   "source": [
    "# 取出所需列\n",
    "file_ = file_[:,[2,3,5,6]]\n",
    "file_[0,:]"
   ],
   "outputs": [
    {
     "output_type": "execute_result",
     "data": {
      "text/plain": [
       "array(['eclipse_01.jpg',\n",
       "       'dit dus  0  rt   \\\\@news_executive  the solar eclipse seen from international space station   #solareclipse  #iss  #space',\n",
       "       'fake', 0], dtype=object)"
      ]
     },
     "metadata": {},
     "execution_count": 18
    }
   ],
   "metadata": {}
  },
  {
   "cell_type": "code",
   "execution_count": 19,
   "source": [
    "file_ = pd.DataFrame(file_, columns=['image','text','label','event_label'])"
   ],
   "outputs": [],
   "metadata": {}
  },
  {
   "cell_type": "code",
   "execution_count": 20,
   "source": [
    "file_.to_csv('twitter_validation.csv',encoding='utf-8',index=False)"
   ],
   "outputs": [],
   "metadata": {}
  },
  {
   "cell_type": "markdown",
   "source": [
    "检查"
   ],
   "metadata": {}
  },
  {
   "cell_type": "code",
   "execution_count": 2,
   "source": [
    "import pandas as pd\n",
    "file_ = pd.read_csv('/Users/zhongshannan/Documents/fakenews_detection/dataset/twitter_recon/twitter_mvae/twitter_train.csv')\n",
    "file_['event_label'].value_counts(),file_['label'].value_counts()"
   ],
   "outputs": [
    {
     "output_type": "execute_result",
     "data": {
      "text/plain": [
       "(3    7589\n",
       " 0     482\n",
       " 4     266\n",
       " 1     191\n",
       " 8      86\n",
       " 5      70\n",
       " 2      43\n",
       " 6       3\n",
       " 7       2\n",
       " Name: event_label, dtype: int64,\n",
       " fake    4774\n",
       " real    3958\n",
       " Name: label, dtype: int64)"
      ]
     },
     "metadata": {},
     "execution_count": 2
    }
   ],
   "metadata": {}
  },
  {
   "cell_type": "code",
   "execution_count": null,
   "source": [],
   "outputs": [],
   "metadata": {}
  }
 ],
 "metadata": {
  "orig_nbformat": 4,
  "language_info": {
   "name": "python",
   "version": "3.7.11",
   "mimetype": "text/x-python",
   "codemirror_mode": {
    "name": "ipython",
    "version": 3
   },
   "pygments_lexer": "ipython3",
   "nbconvert_exporter": "python",
   "file_extension": ".py"
  },
  "kernelspec": {
   "name": "python3",
   "display_name": "Python 3.7.11 64-bit ('eann': conda)"
  },
  "interpreter": {
   "hash": "465fa90a28663a9eacb4f6b007ef9489041ea648cb9c03179d70018ef7b6160c"
  }
 },
 "nbformat": 4,
 "nbformat_minor": 2
}
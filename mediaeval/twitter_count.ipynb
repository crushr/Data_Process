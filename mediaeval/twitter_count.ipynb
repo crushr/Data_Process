{
 "cells": [
  {
   "cell_type": "code",
   "execution_count": 19,
   "source": [
    "import pandas as pd\n",
    "import csv\n",
    "import os\n",
    "\n",
    "# mediaeval 2016 raw\n",
    "txt_file = r\"/Users/zhongshannan/Documents/fakenews_detection/dataset/mediaeval_raw/mediaeval2016/testset/posts_groundtruth.txt\"  \n",
    "csv_file = r\"/Users/zhongshannan/Documents/fakenews_detection/dataset/mediaeval_raw/mediaeval2016/testset/test_posts.csv\"\n",
    "\n",
    "in_txt = csv.reader(open(txt_file, \"r\"), delimiter = '\\t')\n",
    "out_csv = csv.writer(open(csv_file, 'w'))\n",
    "out_csv.writerows(in_txt)\n",
    "\n",
    "def load_tweets_data(name): \n",
    "    csv_path = os.path.join(\"/Users/zhongshannan/Documents/fakenews_detection/dataset/mediaeval_raw/mediaeval2016/\", name) \n",
    "    return pd.read_csv(csv_path)\n",
    "\n",
    "trainTweets = load_tweets_data(\"train_posts.csv\")\n",
    "testTweets = load_tweets_data(\"test_posts.csv\")"
   ],
   "outputs": [],
   "metadata": {}
  },
  {
   "cell_type": "code",
   "execution_count": 21,
   "source": [
    "# insert date into dict directly\n",
    "\n",
    "dict_label = {'train': {'real': None, 'fake': None}, 'test': {'real': None, 'fake': None}}\n",
    "dict_label['train']['real'] = trainTweets['label'].value_counts()[1]\n",
    "dict_label['train']['fake'] = trainTweets['label'].value_counts()[0]\n",
    "dict_label['test']['real'] = testTweets['label'].value_counts()[1]\n",
    "dict_label['test']['fake'] = testTweets['label'].value_counts()[0]\n",
    "dict_label"
   ],
   "outputs": [
    {
     "output_type": "execute_result",
     "data": {
      "text/plain": [
       "{'train': {'real': 9404, 'fake': 6225}, 'test': {'real': 1174, 'fake': 983}}"
      ]
     },
     "metadata": {},
     "execution_count": 21
    }
   ],
   "metadata": {}
  },
  {
   "cell_type": "code",
   "execution_count": 22,
   "source": [
    "# mediaeval integrate version\n",
    "trainTweets = pd.read_csv('/Users/zhongshannan/Documents/fakenews_detection/dataset/mediaeval_twitter/mediaeval2016/train_posts.csv')\n",
    "testTweets = pd.read_csv('/Users/zhongshannan/Documents/fakenews_detection/dataset/mediaeval_twitter/mediaeval2016/test_posts.csv')\n",
    "\n",
    "dict_label = {'train': {'real': None, 'fake': None}, 'test': {'real': None, 'fake': None}}\n",
    "dict_label['train']['real'] = trainTweets['label'].value_counts()[1]\n",
    "dict_label['train']['fake'] = trainTweets['label'].value_counts()[0]\n",
    "dict_label['test']['real'] = testTweets['label'].value_counts()[1]\n",
    "dict_label['test']['fake'] = testTweets['label'].value_counts()[0]\n",
    "dict_label"
   ],
   "outputs": [
    {
     "output_type": "execute_result",
     "data": {
      "text/plain": [
       "{'train': {'real': 7557, 'fake': 6114}, 'test': {'real': 630, 'fake': 468}}"
      ]
     },
     "metadata": {},
     "execution_count": 22
    }
   ],
   "metadata": {}
  },
  {
   "cell_type": "code",
   "execution_count": 23,
   "source": [
    "# mediaeval clean version\n",
    "trainTweets = pd.read_csv('/Users/zhongshannan/Documents/fakenews_detection/dataset/mediaeval_twitter/twitter_cleaned/train_posts.csv')\n",
    "testTweets = pd.read_csv('/Users/zhongshannan/Documents/fakenews_detection/dataset/mediaeval_twitter/twitter_cleaned/test_posts.csv')\n",
    "\n",
    "dict_label = {'train': {'real': None, 'fake': None}, 'test': {'real': None, 'fake': None}}\n",
    "dict_label['train']['real'] = trainTweets['label'].value_counts()[1]\n",
    "dict_label['train']['fake'] = trainTweets['label'].value_counts()[0]\n",
    "dict_label['test']['real'] = testTweets['label'].value_counts()[1]\n",
    "dict_label['test']['fake'] = testTweets['label'].value_counts()[0]\n",
    "dict_label"
   ],
   "outputs": [
    {
     "output_type": "execute_result",
     "data": {
      "text/plain": [
       "{'train': {'real': 7547, 'fake': 5819}, 'test': {'real': 623, 'fake': 468}}"
      ]
     },
     "metadata": {},
     "execution_count": 23
    }
   ],
   "metadata": {}
  },
  {
   "cell_type": "code",
   "execution_count": null,
   "source": [
    "# FNS数据集统计"
   ],
   "outputs": [],
   "metadata": {}
  },
  {
   "cell_type": "code",
   "execution_count": 2,
   "source": [
    "import pandas as pd\n",
    "root = '/Users/zhongshannan/Documents/fakenews_detection/dataset/twitter_recon/'\n",
    "\n",
    "train = pd.read_csv(os.path.join(root,'twitter_train.csv'))\n",
    "test = pd.read_csv(os.path.join(root,'twitter_test.csv'))\n",
    "val = pd.read_csv(os.path.join(root,'twitter_validate.csv'))"
   ],
   "outputs": [],
   "metadata": {}
  },
  {
   "cell_type": "code",
   "execution_count": 2,
   "source": [
    "len(train), len(test), len(val)"
   ],
   "outputs": [
    {
     "output_type": "execute_result",
     "data": {
      "text/plain": [
       "(11173, 1091, 2193)"
      ]
     },
     "metadata": {},
     "execution_count": 2
    }
   ],
   "metadata": {}
  },
  {
   "cell_type": "code",
   "execution_count": 9,
   "source": [
    "event = [] \n",
    "for value in val[\"image\"]: \n",
    "    event.append(str(value).split(\"_\")[0])\n",
    "                  \n",
    "val[\"event\"] = event"
   ],
   "outputs": [],
   "metadata": {}
  },
  {
   "cell_type": "code",
   "execution_count": 4,
   "source": [
    "train['label'].value_counts(),test['label'].value_counts(),val['label'].value_counts()"
   ],
   "outputs": [
    {
     "output_type": "execute_result",
     "data": {
      "text/plain": [
       "(fake    6702\n",
       " real    4471\n",
       " Name: label, dtype: int64,\n",
       " fake    623\n",
       " real    468\n",
       " Name: label, dtype: int64,\n",
       " real    1348\n",
       " fake     845\n",
       " Name: label, dtype: int64)"
      ]
     },
     "metadata": {},
     "execution_count": 4
    }
   ],
   "metadata": {}
  },
  {
   "cell_type": "code",
   "execution_count": 6,
   "source": [
    "len(train['event'].value_counts())"
   ],
   "outputs": [
    {
     "output_type": "execute_result",
     "data": {
      "text/plain": [
       "12"
      ]
     },
     "metadata": {},
     "execution_count": 6
    }
   ],
   "metadata": {}
  },
  {
   "cell_type": "code",
   "execution_count": 8,
   "source": [
    "len(test['event'].value_counts())"
   ],
   "outputs": [
    {
     "output_type": "execute_result",
     "data": {
      "text/plain": [
       "25"
      ]
     },
     "metadata": {},
     "execution_count": 8
    }
   ],
   "metadata": {}
  },
  {
   "cell_type": "code",
   "execution_count": 10,
   "source": [
    "len(val['event'].value_counts())"
   ],
   "outputs": [
    {
     "output_type": "execute_result",
     "data": {
      "text/plain": [
       "3"
      ]
     },
     "metadata": {},
     "execution_count": 10
    }
   ],
   "metadata": {}
  },
  {
   "cell_type": "code",
   "execution_count": null,
   "source": [],
   "outputs": [],
   "metadata": {}
  }
 ],
 "metadata": {
  "orig_nbformat": 4,
  "language_info": {
   "name": "python",
   "version": "3.7.11",
   "mimetype": "text/x-python",
   "codemirror_mode": {
    "name": "ipython",
    "version": 3
   },
   "pygments_lexer": "ipython3",
   "nbconvert_exporter": "python",
   "file_extension": ".py"
  },
  "kernelspec": {
   "name": "python3",
   "display_name": "Python 3.7.11 64-bit ('eann': conda)"
  },
  "interpreter": {
   "hash": "465fa90a28663a9eacb4f6b007ef9489041ea648cb9c03179d70018ef7b6160c"
  }
 },
 "nbformat": 4,
 "nbformat_minor": 2
}
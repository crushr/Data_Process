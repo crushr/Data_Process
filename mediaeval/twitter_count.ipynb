{
 "cells": [
  {
   "cell_type": "code",
   "execution_count": 19,
   "source": [
    "import pandas as pd\n",
    "import csv\n",
    "import os\n",
    "\n",
    "# mediaeval 2016 raw\n",
    "txt_file = r\"/Users/zhongshannan/Documents/fakenews_detection/dataset/mediaeval_raw/mediaeval2016/testset/posts_groundtruth.txt\"  \n",
    "csv_file = r\"/Users/zhongshannan/Documents/fakenews_detection/dataset/mediaeval_raw/mediaeval2016/testset/test_posts.csv\"\n",
    "\n",
    "in_txt = csv.reader(open(txt_file, \"r\"), delimiter = '\\t')\n",
    "out_csv = csv.writer(open(csv_file, 'w'))\n",
    "out_csv.writerows(in_txt)\n",
    "\n",
    "def load_tweets_data(name): \n",
    "    csv_path = os.path.join(\"/Users/zhongshannan/Documents/fakenews_detection/dataset/mediaeval_raw/mediaeval2016/\", name) \n",
    "    return pd.read_csv(csv_path)\n",
    "\n",
    "trainTweets = load_tweets_data(\"train_posts.csv\")\n",
    "testTweets = load_tweets_data(\"test_posts.csv\")"
   ],
   "outputs": [],
   "metadata": {}
  },
  {
   "cell_type": "code",
   "execution_count": 21,
   "source": [
    "# insert date into dict directly\n",
    "\n",
    "dict_label = {'train': {'real': None, 'fake': None}, 'test': {'real': None, 'fake': None}}\n",
    "dict_label['train']['real'] = trainTweets['label'].value_counts()[1]\n",
    "dict_label['train']['fake'] = trainTweets['label'].value_counts()[0]\n",
    "dict_label['test']['real'] = testTweets['label'].value_counts()[1]\n",
    "dict_label['test']['fake'] = testTweets['label'].value_counts()[0]\n",
    "dict_label"
   ],
   "outputs": [
    {
     "output_type": "execute_result",
     "data": {
      "text/plain": [
       "{'train': {'real': 9404, 'fake': 6225}, 'test': {'real': 1174, 'fake': 983}}"
      ]
     },
     "metadata": {},
     "execution_count": 21
    }
   ],
   "metadata": {}
  },
  {
   "cell_type": "code",
   "execution_count": 22,
   "source": [
    "# mediaeval integrate version\n",
    "trainTweets = pd.read_csv('/Users/zhongshannan/Documents/fakenews_detection/dataset/mediaeval_twitter/mediaeval2016/train_posts.csv')\n",
    "testTweets = pd.read_csv('/Users/zhongshannan/Documents/fakenews_detection/dataset/mediaeval_twitter/mediaeval2016/test_posts.csv')\n",
    "\n",
    "dict_label = {'train': {'real': None, 'fake': None}, 'test': {'real': None, 'fake': None}}\n",
    "dict_label['train']['real'] = trainTweets['label'].value_counts()[1]\n",
    "dict_label['train']['fake'] = trainTweets['label'].value_counts()[0]\n",
    "dict_label['test']['real'] = testTweets['label'].value_counts()[1]\n",
    "dict_label['test']['fake'] = testTweets['label'].value_counts()[0]\n",
    "dict_label"
   ],
   "outputs": [
    {
     "output_type": "execute_result",
     "data": {
      "text/plain": [
       "{'train': {'real': 7557, 'fake': 6114}, 'test': {'real': 630, 'fake': 468}}"
      ]
     },
     "metadata": {},
     "execution_count": 22
    }
   ],
   "metadata": {}
  },
  {
   "cell_type": "code",
   "execution_count": 23,
   "source": [
    "# mediaeval clean version\n",
    "trainTweets = pd.read_csv('/Users/zhongshannan/Documents/fakenews_detection/dataset/mediaeval_twitter/twitter_cleaned/train_posts.csv')\n",
    "testTweets = pd.read_csv('/Users/zhongshannan/Documents/fakenews_detection/dataset/mediaeval_twitter/twitter_cleaned/test_posts.csv')\n",
    "\n",
    "dict_label = {'train': {'real': None, 'fake': None}, 'test': {'real': None, 'fake': None}}\n",
    "dict_label['train']['real'] = trainTweets['label'].value_counts()[1]\n",
    "dict_label['train']['fake'] = trainTweets['label'].value_counts()[0]\n",
    "dict_label['test']['real'] = testTweets['label'].value_counts()[1]\n",
    "dict_label['test']['fake'] = testTweets['label'].value_counts()[0]\n",
    "dict_label"
   ],
   "outputs": [
    {
     "output_type": "execute_result",
     "data": {
      "text/plain": [
       "{'train': {'real': 7547, 'fake': 5819}, 'test': {'real': 623, 'fake': 468}}"
      ]
     },
     "metadata": {},
     "execution_count": 23
    }
   ],
   "metadata": {}
  },
  {
   "cell_type": "code",
   "execution_count": null,
   "source": [],
   "outputs": [],
   "metadata": {}
  }
 ],
 "metadata": {
  "orig_nbformat": 4,
  "language_info": {
   "name": "python",
   "version": "3.8.11",
   "mimetype": "text/x-python",
   "codemirror_mode": {
    "name": "ipython",
    "version": 3
   },
   "pygments_lexer": "ipython3",
   "nbconvert_exporter": "python",
   "file_extension": ".py"
  },
  "kernelspec": {
   "name": "python3",
   "display_name": "Python 3.8.11 64-bit ('Py38': conda)"
  },
  "interpreter": {
   "hash": "62792cbd3b5bf2807c49140b9dd77f3574e6f3863eef786f6f586b1ba9747cfd"
  }
 },
 "nbformat": 4,
 "nbformat_minor": 2
}
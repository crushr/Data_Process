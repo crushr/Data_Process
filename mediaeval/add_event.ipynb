{
 "cells": [
  {
   "cell_type": "code",
   "execution_count": 73,
   "source": [
    "import pandas as pd\n",
    "train = pd.read_csv('/Users/zhongshannan/Documents/fakenews_detection/dataset/twitter_recon/twitter_train.csv')\n",
    "test = pd.read_csv('/Users/zhongshannan/Documents/fakenews_detection/dataset/twitter_recon/twitter_test.csv')\n",
    "val = pd.read_csv('/Users/zhongshannan/Documents/fakenews_detection/dataset/twitter_recon/twitter_validate.csv')"
   ],
   "outputs": [],
   "metadata": {}
  },
  {
   "cell_type": "code",
   "execution_count": 86,
   "source": [
    "event_col = val['event']\n",
    "event_arr = val['event'].unique()\n",
    "\n",
    "import numpy as np\n",
    "event_col_arr = np.array(event_col)"
   ],
   "outputs": [],
   "metadata": {}
  },
  {
   "cell_type": "code",
   "execution_count": 87,
   "source": [
    "event_col_arr"
   ],
   "outputs": [
    {
     "output_type": "execute_result",
     "data": {
      "text/plain": [
       "array(['boston', 'boston', 'boston', ..., 'malaysia', 'malaysia',\n",
       "       'malaysia'], dtype=object)"
      ]
     },
     "metadata": {},
     "execution_count": 87
    }
   ],
   "metadata": {}
  },
  {
   "cell_type": "code",
   "execution_count": 88,
   "source": [
    "event_arr"
   ],
   "outputs": [
    {
     "output_type": "execute_result",
     "data": {
      "text/plain": [
       "array(['boston', 'nepal', 'malaysia'], dtype=object)"
      ]
     },
     "metadata": {},
     "execution_count": 88
    }
   ],
   "metadata": {}
  },
  {
   "cell_type": "code",
   "execution_count": 84,
   "source": [
    "# method 1\n",
    "arr = []\n",
    "for idx, event in enumerate(event_col_arr):\n",
    "    arr.insert(idx, list(event_arr).index(event))\n",
    "arr"
   ],
   "outputs": [
    {
     "output_type": "error",
     "ename": "ValueError",
     "evalue": "12 is not in list",
     "traceback": [
      "\u001b[0;31m---------------------------------------------------------------------------\u001b[0m",
      "\u001b[0;31mValueError\u001b[0m                                Traceback (most recent call last)",
      "\u001b[0;32m/var/folders/vz/h2_p04597j1dw_q3wbgtg23w0000gn/T/ipykernel_507/2856815091.py\u001b[0m in \u001b[0;36m<module>\u001b[0;34m\u001b[0m\n\u001b[1;32m      2\u001b[0m \u001b[0marr\u001b[0m \u001b[0;34m=\u001b[0m \u001b[0;34m[\u001b[0m\u001b[0;34m]\u001b[0m\u001b[0;34m\u001b[0m\u001b[0;34m\u001b[0m\u001b[0m\n\u001b[1;32m      3\u001b[0m \u001b[0;32mfor\u001b[0m \u001b[0midx\u001b[0m\u001b[0;34m,\u001b[0m \u001b[0mevent\u001b[0m \u001b[0;32min\u001b[0m \u001b[0menumerate\u001b[0m\u001b[0;34m(\u001b[0m\u001b[0mevent_col_arr\u001b[0m\u001b[0;34m)\u001b[0m\u001b[0;34m:\u001b[0m\u001b[0;34m\u001b[0m\u001b[0;34m\u001b[0m\u001b[0m\n\u001b[0;32m----> 4\u001b[0;31m     \u001b[0marr\u001b[0m\u001b[0;34m.\u001b[0m\u001b[0minsert\u001b[0m\u001b[0;34m(\u001b[0m\u001b[0midx\u001b[0m\u001b[0;34m,\u001b[0m \u001b[0mlist\u001b[0m\u001b[0;34m(\u001b[0m\u001b[0mevent_arr\u001b[0m\u001b[0;34m)\u001b[0m\u001b[0;34m.\u001b[0m\u001b[0mindex\u001b[0m\u001b[0;34m(\u001b[0m\u001b[0mevent\u001b[0m\u001b[0;34m)\u001b[0m\u001b[0;34m)\u001b[0m\u001b[0;34m\u001b[0m\u001b[0;34m\u001b[0m\u001b[0m\n\u001b[0m\u001b[1;32m      5\u001b[0m \u001b[0marr\u001b[0m\u001b[0;34m\u001b[0m\u001b[0;34m\u001b[0m\u001b[0m\n",
      "\u001b[0;31mValueError\u001b[0m: 12 is not in list"
     ]
    }
   ],
   "metadata": {}
  },
  {
   "cell_type": "code",
   "execution_count": 89,
   "source": [
    "# method 2\n",
    "for idx, event in enumerate(event_col_arr):\n",
    "    event_col_arr[idx] = list(event_arr).index(event) + 37\n",
    "event_col_arr"
   ],
   "outputs": [
    {
     "output_type": "execute_result",
     "data": {
      "text/plain": [
       "array([37, 37, 37, ..., 39, 39, 39], dtype=object)"
      ]
     },
     "metadata": {},
     "execution_count": 89
    }
   ],
   "metadata": {}
  },
  {
   "cell_type": "code",
   "execution_count": 90,
   "source": [
    "w = pd.concat([val, pd.DataFrame(columns = ['event_label'] , data=list(event_col_arr))], axis=1)\n",
    "w.to_csv('validation.csv', encoding='utf-8', index=False)"
   ],
   "outputs": [],
   "metadata": {}
  }
 ],
 "metadata": {
  "orig_nbformat": 4,
  "language_info": {
   "name": "python",
   "version": "3.7.11",
   "mimetype": "text/x-python",
   "codemirror_mode": {
    "name": "ipython",
    "version": 3
   },
   "pygments_lexer": "ipython3",
   "nbconvert_exporter": "python",
   "file_extension": ".py"
  },
  "kernelspec": {
   "name": "python3",
   "display_name": "Python 3.7.11 64-bit ('eann': conda)"
  },
  "interpreter": {
   "hash": "465fa90a28663a9eacb4f6b007ef9489041ea648cb9c03179d70018ef7b6160c"
  }
 },
 "nbformat": 4,
 "nbformat_minor": 2
}
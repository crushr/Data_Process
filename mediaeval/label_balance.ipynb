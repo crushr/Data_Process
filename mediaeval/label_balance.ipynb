{
 "cells": [
  {
   "cell_type": "code",
   "execution_count": 2,
   "source": [
    "import pandas as pd\n",
    "# train = pd.read_csv('/Users/zhongshannan/Documents/fakenews_detection/dataset/twitter_train.csv')\n",
    "# val = pd.read_csv('/Users/zhongshannan/Documents/fakenews_detection/dataset/twitter_validation.csv')\n",
    "test = pd.read_csv('/Users/zhongshannan/Documents/fakenews_detection/dataset/twitter_test.csv')"
   ],
   "outputs": [],
   "metadata": {}
  },
  {
   "cell_type": "code",
   "execution_count": 5,
   "source": [
    "real = test[test['label'] == 'real']\n",
    "fake = test[test['label'] == 'fake']\n",
    "real.to_csv('real.csv', index=False)\n",
    "fake.to_csv('fake.csv', index=False)"
   ],
   "outputs": [],
   "metadata": {}
  },
  {
   "cell_type": "code",
   "execution_count": null,
   "source": [],
   "outputs": [],
   "metadata": {}
  }
 ],
 "metadata": {
  "orig_nbformat": 4,
  "language_info": {
   "name": "python",
   "version": "3.7.11",
   "mimetype": "text/x-python",
   "codemirror_mode": {
    "name": "ipython",
    "version": 3
   },
   "pygments_lexer": "ipython3",
   "nbconvert_exporter": "python",
   "file_extension": ".py"
  },
  "kernelspec": {
   "name": "python3",
   "display_name": "Python 3.7.11 64-bit ('eann': conda)"
  },
  "interpreter": {
   "hash": "465fa90a28663a9eacb4f6b007ef9489041ea648cb9c03179d70018ef7b6160c"
  }
 },
 "nbformat": 4,
 "nbformat_minor": 2
}
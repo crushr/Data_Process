{
 "cells": [
  {
   "cell_type": "code",
   "execution_count": 8,
   "source": [
    "import seaborn as sns\n",
    "import matplotlib.pyplot as plt\n",
    "import pandas as pd\n",
    "import os"
   ],
   "outputs": [],
   "metadata": {}
  },
  {
   "cell_type": "markdown",
   "source": [
    "读取"
   ],
   "metadata": {}
  },
  {
   "cell_type": "code",
   "execution_count": 9,
   "source": [
    "def load_tweets_data(name): \n",
    "    csv_path = os.path.join(\"./twitter_cleaned/\", name) \n",
    "    return pd.read_csv(csv_path)\n",
    "\n",
    "tweets = load_tweets_data(\"train_posts.csv\")"
   ],
   "outputs": [],
   "metadata": {}
  },
  {
   "cell_type": "markdown",
   "source": [
    "去除无关列，只留event timestamp label，更新event列信息"
   ],
   "metadata": {}
  },
  {
   "cell_type": "code",
   "execution_count": 10,
   "source": [
    "tweets.drop([\"post_text\"],axis=1,inplace=True)\n",
    "tweets.drop([\"post_id\"],axis=1,inplace=True)\n",
    "tweets.drop([\"user_id\"],axis=1,inplace=True)\n",
    "tweets.drop([\"username\"],axis=1,inplace=True)\n",
    "\n",
    "# 修改更新event列\n",
    "split_result = tweets['image_id'].str.split('_',expand=True)\n",
    "tweets.insert(0, 'event', split_result[0])\n",
    "tweets.drop([\"image_id\"],axis=1,inplace=True)"
   ],
   "outputs": [],
   "metadata": {}
  },
  {
   "cell_type": "markdown",
   "source": [
    "取出timestamp，处理格式"
   ],
   "metadata": {}
  },
  {
   "cell_type": "code",
   "execution_count": 11,
   "source": [
    "# 分别取出年月日\n",
    "split_time = tweets['timestamp'].str.split(' ',expand=True)\n",
    "split_time = split_time.iloc[:,[5,1,2]]\n",
    "\n",
    "# 将月的格式进行转换\n",
    "dict_month = {'Jan':'1','Feb':'2','Mar':'3','Apr':'4','May':'5','Jun':'6',\n",
    "              'Jul':'7','Aug':'8','Sep':'9','Oct':'10','Nov':'11','Dec':'12'}\n",
    "data = []\n",
    "for index, value in split_time[1].items():\n",
    "    data.append(dict_month.get(value))\n",
    "\n",
    "# 插入转换后的列，删除原列，更改列索引名\n",
    "split_time.insert(1, 'time', data)\n",
    "split_time.drop([1],axis=1,inplace=True)\n",
    "split_time.columns=['year','month','day']\n",
    "\n",
    "# 合并成一列\n",
    "split_time[\"time_month\"] = split_time[\"year\"] +'.'+ split_time[\"month\"]+'.'+ split_time[\"day\"]\n",
    "\n",
    "# 删除子列，只留合并后的列\n",
    "split_time.drop([\"year\"],axis=1,inplace=True)\n",
    "split_time.drop([\"month\"],axis=1,inplace=True)\n",
    "split_time.drop([\"day\"],axis=1,inplace=True)\n",
    "\n",
    "# 插入格式正确的时间列\n",
    "norm_data = pd.concat([tweets,split_time], axis=1)\n",
    "norm_data.drop([\"timestamp\"],axis=1,inplace=True)\n",
    "norm_data.head()"
   ],
   "outputs": [
    {
     "output_type": "execute_result",
     "data": {
      "text/html": [
       "<div>\n",
       "<style scoped>\n",
       "    .dataframe tbody tr th:only-of-type {\n",
       "        vertical-align: middle;\n",
       "    }\n",
       "\n",
       "    .dataframe tbody tr th {\n",
       "        vertical-align: top;\n",
       "    }\n",
       "\n",
       "    .dataframe thead th {\n",
       "        text-align: right;\n",
       "    }\n",
       "</style>\n",
       "<table border=\"1\" class=\"dataframe\">\n",
       "  <thead>\n",
       "    <tr style=\"text-align: right;\">\n",
       "      <th></th>\n",
       "      <th>event</th>\n",
       "      <th>label</th>\n",
       "      <th>time_month</th>\n",
       "    </tr>\n",
       "  </thead>\n",
       "  <tbody>\n",
       "    <tr>\n",
       "      <th>0</th>\n",
       "      <td>boston</td>\n",
       "      <td>fake</td>\n",
       "      <td>2013.4.17</td>\n",
       "    </tr>\n",
       "    <tr>\n",
       "      <th>1</th>\n",
       "      <td>boston</td>\n",
       "      <td>fake</td>\n",
       "      <td>2013.4.19</td>\n",
       "    </tr>\n",
       "    <tr>\n",
       "      <th>2</th>\n",
       "      <td>boston</td>\n",
       "      <td>fake</td>\n",
       "      <td>2013.4.19</td>\n",
       "    </tr>\n",
       "    <tr>\n",
       "      <th>3</th>\n",
       "      <td>boston</td>\n",
       "      <td>fake</td>\n",
       "      <td>2013.4.17</td>\n",
       "    </tr>\n",
       "    <tr>\n",
       "      <th>4</th>\n",
       "      <td>boston</td>\n",
       "      <td>fake</td>\n",
       "      <td>2013.4.17</td>\n",
       "    </tr>\n",
       "  </tbody>\n",
       "</table>\n",
       "</div>"
      ],
      "text/plain": [
       "    event label time_month\n",
       "0  boston  fake  2013.4.17\n",
       "1  boston  fake  2013.4.19\n",
       "2  boston  fake  2013.4.19\n",
       "3  boston  fake  2013.4.17\n",
       "4  boston  fake  2013.4.17"
      ]
     },
     "metadata": {},
     "execution_count": 11
    }
   ],
   "metadata": {}
  },
  {
   "cell_type": "markdown",
   "source": [
    "norm_data为最终格式，查看数据集整体情况"
   ],
   "metadata": {}
  },
  {
   "cell_type": "code",
   "execution_count": 16,
   "source": [
    "event = norm_data.event.unique()\n",
    "print(event,len(event))\n",
    "norm_data['event'].value_counts()"
   ],
   "outputs": [
    {
     "output_type": "stream",
     "name": "stdout",
     "text": [
      "['boston' 'malaysia' 'passport' 'sandy' 'sochi' 'bringback'\n",
      " 'columbianChemicals' 'elephant' 'livr' 'pigFish' 'underwater' 'eclipse'\n",
      " 'samurai' 'nepal' 'garissa'] 15\n"
     ]
    },
    {
     "output_type": "execute_result",
     "data": {
      "text/plain": [
       "sandy                 9818\n",
       "nepal                 1360\n",
       "boston                 523\n",
       "malaysia               310\n",
       "eclipse                275\n",
       "sochi                  274\n",
       "samurai                218\n",
       "columbianChemicals     185\n",
       "bringback              131\n",
       "underwater             113\n",
       "garissa                 79\n",
       "passport                44\n",
       "pigFish                 14\n",
       "elephant                13\n",
       "livr                     9\n",
       "Name: event, dtype: int64"
      ]
     },
     "metadata": {},
     "execution_count": 16
    }
   ],
   "metadata": {}
  },
  {
   "cell_type": "markdown",
   "source": [
    "取出某一事件，时序变化特征"
   ],
   "metadata": {}
  },
  {
   "cell_type": "code",
   "execution_count": 26,
   "source": [
    "# 取出特定时间的推文和时间戳\n",
    "one_event = norm_data.loc[norm_data['event'] == 'boston']\n",
    "time = one_event.time_month.unique()\n",
    "\n",
    "# 插入时间为key\n",
    "dict_event = {}\n",
    "dict_event = {}.fromkeys([ti for ti in time])\n",
    "\n",
    "# 插入真假类别为子key \n",
    "class_event = ['real', 'fake']\n",
    "for key in dict_event.keys():\n",
    "    dict_event[key] = {}.fromkeys([key for key in class_event])\n",
    "\n",
    "# 向字典框架填入数量\n",
    "for index, row in one_event.iterrows():\n",
    "    if dict_event[row['time_month']][row['label']] == None:\n",
    "        dict_event[row['time_month']][row['label']] = 1\n",
    "    else:\n",
    "        dict_event[row['time_month']][row['label']] += 1\n",
    "\n",
    "# 按日期排序\n",
    "dict_event = dict(sorted(dict_event.items(), key=lambda x: x[0]))\n",
    "\n",
    "# 转为dataframe并反转\n",
    "df_event = pd.DataFrame(dict_event).T\n",
    "df_event"
   ],
   "outputs": [
    {
     "output_type": "execute_result",
     "data": {
      "text/html": [
       "<div>\n",
       "<style scoped>\n",
       "    .dataframe tbody tr th:only-of-type {\n",
       "        vertical-align: middle;\n",
       "    }\n",
       "\n",
       "    .dataframe tbody tr th {\n",
       "        vertical-align: top;\n",
       "    }\n",
       "\n",
       "    .dataframe thead th {\n",
       "        text-align: right;\n",
       "    }\n",
       "</style>\n",
       "<table border=\"1\" class=\"dataframe\">\n",
       "  <thead>\n",
       "    <tr style=\"text-align: right;\">\n",
       "      <th></th>\n",
       "      <th>real</th>\n",
       "      <th>fake</th>\n",
       "    </tr>\n",
       "  </thead>\n",
       "  <tbody>\n",
       "    <tr>\n",
       "      <th>2013.4.16</th>\n",
       "      <td>NaN</td>\n",
       "      <td>3.0</td>\n",
       "    </tr>\n",
       "    <tr>\n",
       "      <th>2013.4.17</th>\n",
       "      <td>NaN</td>\n",
       "      <td>105.0</td>\n",
       "    </tr>\n",
       "    <tr>\n",
       "      <th>2013.4.18</th>\n",
       "      <td>51.0</td>\n",
       "      <td>26.0</td>\n",
       "    </tr>\n",
       "    <tr>\n",
       "      <th>2013.4.19</th>\n",
       "      <td>241.0</td>\n",
       "      <td>39.0</td>\n",
       "    </tr>\n",
       "    <tr>\n",
       "      <th>2013.4.20</th>\n",
       "      <td>48.0</td>\n",
       "      <td>6.0</td>\n",
       "    </tr>\n",
       "    <tr>\n",
       "      <th>2013.4.22</th>\n",
       "      <td>2.0</td>\n",
       "      <td>NaN</td>\n",
       "    </tr>\n",
       "    <tr>\n",
       "      <th>2013.4.23</th>\n",
       "      <td>1.0</td>\n",
       "      <td>NaN</td>\n",
       "    </tr>\n",
       "    <tr>\n",
       "      <th>2013.4.24</th>\n",
       "      <td>1.0</td>\n",
       "      <td>NaN</td>\n",
       "    </tr>\n",
       "  </tbody>\n",
       "</table>\n",
       "</div>"
      ],
      "text/plain": [
       "            real   fake\n",
       "2013.4.16    NaN    3.0\n",
       "2013.4.17    NaN  105.0\n",
       "2013.4.18   51.0   26.0\n",
       "2013.4.19  241.0   39.0\n",
       "2013.4.20   48.0    6.0\n",
       "2013.4.22    2.0    NaN\n",
       "2013.4.23    1.0    NaN\n",
       "2013.4.24    1.0    NaN"
      ]
     },
     "metadata": {},
     "execution_count": 26
    }
   ],
   "metadata": {}
  },
  {
   "cell_type": "markdown",
   "source": [
    "可视化"
   ],
   "metadata": {}
  },
  {
   "cell_type": "code",
   "execution_count": 34,
   "source": [
    "sns.set_theme(style=\"whitegrid\")\n",
    "plt.xticks(rotation=35) \n",
    "sns.lineplot(data=df_event, palette=\"tab10\", linewidth=2.5)"
   ],
   "outputs": [
    {
     "output_type": "execute_result",
     "data": {
      "text/plain": [
       "<AxesSubplot:>"
      ]
     },
     "metadata": {},
     "execution_count": 34
    },
    {
     "output_type": "display_data",
     "data": {
      "image/png": "[encoded data removed]",
      "text/plain": [
       "<Figure size 432x288 with 1 Axes>"
      ]
     },
     "metadata": {}
    }
   ],
   "metadata": {}
  }
 ],
 "metadata": {
  "orig_nbformat": 4,
  "language_info": {
   "name": "python",
   "version": "3.8.11",
   "mimetype": "text/x-python",
   "codemirror_mode": {
    "name": "ipython",
    "version": 3
   },
   "pygments_lexer": "ipython3",
   "nbconvert_exporter": "python",
   "file_extension": ".py"
  },
  "kernelspec": {
   "name": "python3",
   "display_name": "Python 3.8.11 64-bit ('Py38': conda)"
  },
  "interpreter": {
   "hash": "62792cbd3b5bf2807c49140b9dd77f3574e6f3863eef786f6f586b1ba9747cfd"
  }
 },
 "nbformat": 4,
 "nbformat_minor": 2
}